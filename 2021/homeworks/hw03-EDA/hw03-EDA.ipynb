{
 "cells": [
  {
   "cell_type": "markdown",
   "metadata": {
    "id": "O6_OCTFzu8lE"
   },
   "source": [
    "## Домашнее задание 3 (10 баллов)\n",
    "\n",
    "## НИУ ВШЭ, 2020-21 учебный год"
   ]
  },
  {
   "cell_type": "markdown",
   "metadata": {
    "id": "rIc6VNYLu8lK"
   },
   "source": [
    "### О задании"
   ]
  },
  {
   "cell_type": "markdown",
   "metadata": {
    "id": "xRsXxtgNu8lM"
   },
   "source": [
    "В этом домашнем задании вы получите опыт подготовки данных и EDA (Exploratory Data Analysis), приблизившись к реальной работе с данными с помощью уже знакомых вам инструментов: numpy, pandas, matplotlib и seaborn."
   ]
  },
  {
   "cell_type": "markdown",
   "metadata": {
    "id": "01c_ZXgNu8ld"
   },
   "source": [
    "Вы будет работать с задачей кредитного скоринга (оценка надёжности клиента). Предоставляются данные о 1000 клиентов, про которых известно около 20 признаков и положительная или отрицательная оценка в качестве кредитуемого. Эти данные нужно будет подготовить, исследовать (в том числе с помощью средств визуализации) и даже попробовать предложить какую-нибудь формулу для условной оценки надёжности клиентов исходя из предоставленных данных. Описание данных:\n",
    "https://www.rdocumentation.org/packages/evtree/versions/1.0-8/topics/GermanCredit\n",
    "\n",
    "Каждый построенный график необходимо красиво оформить - для этого требуется как минимум указать его название, а также отметить, что изображено по каждой из осей.\n",
    "Также по каждому графику ожидается небольшой комментарий с выводами.\n",
    "\n",
    "*Функции, которые могут пригодиться при оформлении графиков: `.show()`, `.title()`, `.xlabel()`, `.ylabel()`*"
   ]
  },
  {
   "cell_type": "code",
   "execution_count": 1,
   "metadata": {
    "id": "kbKMD992u8ld"
   },
   "outputs": [],
   "source": [
    "import pandas as pd"
   ]
  },
  {
   "cell_type": "markdown",
   "metadata": {
    "id": "PoKE3PySu8ld"
   },
   "source": [
    "### Задание 1 (0.0 балла)"
   ]
  },
  {
   "cell_type": "markdown",
   "metadata": {
    "id": "sMh8vvlNu8ld"
   },
   "source": [
    "Прочитайте средствами pandas файл с данными по ссылке https://raw.githubusercontent.com/PersDep/data-mining-intro-2021/main/hw03-EDA-data/german_credit.csv. Выведите базовое представление таблицы (первые 5 и последние 5 строк, размер)."
   ]
  },
  {
   "cell_type": "code",
   "execution_count": 2,
   "metadata": {
    "id": "cRtVjoMlu8le"
   },
   "outputs": [
    {
     "data": {
      "text/html": [
       "<div>\n",
       "<style scoped>\n",
       "    .dataframe tbody tr th:only-of-type {\n",
       "        vertical-align: middle;\n",
       "    }\n",
       "\n",
       "    .dataframe tbody tr th {\n",
       "        vertical-align: top;\n",
       "    }\n",
       "\n",
       "    .dataframe thead th {\n",
       "        text-align: right;\n",
       "    }\n",
       "</style>\n",
       "<table border=\"1\" class=\"dataframe\">\n",
       "  <thead>\n",
       "    <tr style=\"text-align: right;\">\n",
       "      <th></th>\n",
       "      <th>status</th>\n",
       "      <th>duration</th>\n",
       "      <th>credit_history</th>\n",
       "      <th>purpose</th>\n",
       "      <th>amount</th>\n",
       "      <th>savings</th>\n",
       "      <th>employment_duration</th>\n",
       "      <th>installment_rate</th>\n",
       "      <th>personal_status_sex</th>\n",
       "      <th>other_debtors</th>\n",
       "      <th>...</th>\n",
       "      <th>property</th>\n",
       "      <th>age</th>\n",
       "      <th>other_installment_plans</th>\n",
       "      <th>housing</th>\n",
       "      <th>number_credits</th>\n",
       "      <th>job</th>\n",
       "      <th>people_liable</th>\n",
       "      <th>telephone</th>\n",
       "      <th>foreign_worker</th>\n",
       "      <th>credit_risk</th>\n",
       "    </tr>\n",
       "  </thead>\n",
       "  <tbody>\n",
       "    <tr>\n",
       "      <th>0</th>\n",
       "      <td>no checking account</td>\n",
       "      <td>18</td>\n",
       "      <td>all credits at this bank paid back duly</td>\n",
       "      <td>car (used)</td>\n",
       "      <td>1049</td>\n",
       "      <td>unknown/no savings account</td>\n",
       "      <td>&lt; 1 yr</td>\n",
       "      <td>&lt; 20</td>\n",
       "      <td>female : non-single or male : single</td>\n",
       "      <td>none</td>\n",
       "      <td>...</td>\n",
       "      <td>car or other</td>\n",
       "      <td>21</td>\n",
       "      <td>none</td>\n",
       "      <td>for free</td>\n",
       "      <td>1</td>\n",
       "      <td>skilled employee/official</td>\n",
       "      <td>0 to 2</td>\n",
       "      <td>no</td>\n",
       "      <td>no</td>\n",
       "      <td>good</td>\n",
       "    </tr>\n",
       "    <tr>\n",
       "      <th>1</th>\n",
       "      <td>no checking account</td>\n",
       "      <td>9</td>\n",
       "      <td>all credits at this bank paid back duly</td>\n",
       "      <td>others</td>\n",
       "      <td>2799</td>\n",
       "      <td>unknown/no savings account</td>\n",
       "      <td>1 &lt;= ... &lt; 4 yrs</td>\n",
       "      <td>25 &lt;= ... &lt; 35</td>\n",
       "      <td>male : married/widowed</td>\n",
       "      <td>none</td>\n",
       "      <td>...</td>\n",
       "      <td>unknown / no property</td>\n",
       "      <td>36</td>\n",
       "      <td>none</td>\n",
       "      <td>for free</td>\n",
       "      <td>2-3</td>\n",
       "      <td>skilled employee/official</td>\n",
       "      <td>3 or more</td>\n",
       "      <td>no</td>\n",
       "      <td>no</td>\n",
       "      <td>good</td>\n",
       "    </tr>\n",
       "    <tr>\n",
       "      <th>2</th>\n",
       "      <td>... &lt; 0 DM</td>\n",
       "      <td>12</td>\n",
       "      <td>no credits taken/all credits paid back duly</td>\n",
       "      <td>retraining</td>\n",
       "      <td>841</td>\n",
       "      <td>... &lt;  100 DM</td>\n",
       "      <td>4 &lt;= ... &lt; 7 yrs</td>\n",
       "      <td>25 &lt;= ... &lt; 35</td>\n",
       "      <td>female : non-single or male : single</td>\n",
       "      <td>none</td>\n",
       "      <td>...</td>\n",
       "      <td>unknown / no property</td>\n",
       "      <td>23</td>\n",
       "      <td>none</td>\n",
       "      <td>for free</td>\n",
       "      <td>1</td>\n",
       "      <td>unskilled - resident</td>\n",
       "      <td>0 to 2</td>\n",
       "      <td>no</td>\n",
       "      <td>no</td>\n",
       "      <td>good</td>\n",
       "    </tr>\n",
       "    <tr>\n",
       "      <th>3</th>\n",
       "      <td>no checking account</td>\n",
       "      <td>12</td>\n",
       "      <td>all credits at this bank paid back duly</td>\n",
       "      <td>others</td>\n",
       "      <td>2122</td>\n",
       "      <td>unknown/no savings account</td>\n",
       "      <td>1 &lt;= ... &lt; 4 yrs</td>\n",
       "      <td>20 &lt;= ... &lt; 25</td>\n",
       "      <td>male : married/widowed</td>\n",
       "      <td>none</td>\n",
       "      <td>...</td>\n",
       "      <td>unknown / no property</td>\n",
       "      <td>39</td>\n",
       "      <td>none</td>\n",
       "      <td>for free</td>\n",
       "      <td>2-3</td>\n",
       "      <td>unskilled - resident</td>\n",
       "      <td>3 or more</td>\n",
       "      <td>no</td>\n",
       "      <td>yes</td>\n",
       "      <td>good</td>\n",
       "    </tr>\n",
       "    <tr>\n",
       "      <th>4</th>\n",
       "      <td>no checking account</td>\n",
       "      <td>12</td>\n",
       "      <td>all credits at this bank paid back duly</td>\n",
       "      <td>others</td>\n",
       "      <td>2171</td>\n",
       "      <td>unknown/no savings account</td>\n",
       "      <td>1 &lt;= ... &lt; 4 yrs</td>\n",
       "      <td>&lt; 20</td>\n",
       "      <td>male : married/widowed</td>\n",
       "      <td>none</td>\n",
       "      <td>...</td>\n",
       "      <td>car or other</td>\n",
       "      <td>38</td>\n",
       "      <td>bank</td>\n",
       "      <td>rent</td>\n",
       "      <td>2-3</td>\n",
       "      <td>unskilled - resident</td>\n",
       "      <td>0 to 2</td>\n",
       "      <td>no</td>\n",
       "      <td>yes</td>\n",
       "      <td>good</td>\n",
       "    </tr>\n",
       "  </tbody>\n",
       "</table>\n",
       "<p>5 rows × 21 columns</p>\n",
       "</div>"
      ],
      "text/plain": [
       "                status  duration                               credit_history  \\\n",
       "0  no checking account        18      all credits at this bank paid back duly   \n",
       "1  no checking account         9      all credits at this bank paid back duly   \n",
       "2           ... < 0 DM        12  no credits taken/all credits paid back duly   \n",
       "3  no checking account        12      all credits at this bank paid back duly   \n",
       "4  no checking account        12      all credits at this bank paid back duly   \n",
       "\n",
       "      purpose  amount                     savings employment_duration  \\\n",
       "0  car (used)    1049  unknown/no savings account              < 1 yr   \n",
       "1      others    2799  unknown/no savings account    1 <= ... < 4 yrs   \n",
       "2  retraining     841               ... <  100 DM    4 <= ... < 7 yrs   \n",
       "3      others    2122  unknown/no savings account    1 <= ... < 4 yrs   \n",
       "4      others    2171  unknown/no savings account    1 <= ... < 4 yrs   \n",
       "\n",
       "  installment_rate                   personal_status_sex other_debtors  ...  \\\n",
       "0             < 20  female : non-single or male : single          none  ...   \n",
       "1   25 <= ... < 35                male : married/widowed          none  ...   \n",
       "2   25 <= ... < 35  female : non-single or male : single          none  ...   \n",
       "3   20 <= ... < 25                male : married/widowed          none  ...   \n",
       "4             < 20                male : married/widowed          none  ...   \n",
       "\n",
       "                property age  other_installment_plans   housing  \\\n",
       "0           car or other  21                     none  for free   \n",
       "1  unknown / no property  36                     none  for free   \n",
       "2  unknown / no property  23                     none  for free   \n",
       "3  unknown / no property  39                     none  for free   \n",
       "4           car or other  38                     bank      rent   \n",
       "\n",
       "  number_credits                        job people_liable telephone  \\\n",
       "0              1  skilled employee/official        0 to 2        no   \n",
       "1            2-3  skilled employee/official     3 or more        no   \n",
       "2              1       unskilled - resident        0 to 2        no   \n",
       "3            2-3       unskilled - resident     3 or more        no   \n",
       "4            2-3       unskilled - resident        0 to 2        no   \n",
       "\n",
       "  foreign_worker credit_risk  \n",
       "0             no        good  \n",
       "1             no        good  \n",
       "2             no        good  \n",
       "3            yes        good  \n",
       "4            yes        good  \n",
       "\n",
       "[5 rows x 21 columns]"
      ]
     },
     "execution_count": 2,
     "metadata": {},
     "output_type": "execute_result"
    }
   ],
   "source": [
    "# your code here\n",
    "data = pd.read_csv(\"https://raw.githubusercontent.com/PersDep/data-mining-intro-2021/main/hw03-EDA-data/german_credit.csv\")\n",
    "data.head()"
   ]
  },
  {
   "cell_type": "markdown",
   "metadata": {
    "id": "JBbxRdOQu8le"
   },
   "source": [
    "### Задание 2 (0.5 балла)"
   ]
  },
  {
   "cell_type": "markdown",
   "metadata": {
    "id": "hIPt1r6ju8le"
   },
   "source": [
    "Определите, есть ли пропуски в данных. Разделите признаки на количественные, бинарные, порядковые и категориальные."
   ]
  },
  {
   "cell_type": "code",
   "execution_count": 3,
   "metadata": {
    "id": "jD04ZLhdM6DT"
   },
   "outputs": [
    {
     "name": "stdout",
     "output_type": "stream",
     "text": [
      "<class 'pandas.core.frame.DataFrame'>\n",
      "RangeIndex: 1000 entries, 0 to 999\n",
      "Data columns (total 21 columns):\n",
      " #   Column                   Non-Null Count  Dtype \n",
      "---  ------                   --------------  ----- \n",
      " 0   status                   1000 non-null   object\n",
      " 1   duration                 1000 non-null   int64 \n",
      " 2   credit_history           1000 non-null   object\n",
      " 3   purpose                  1000 non-null   object\n",
      " 4   amount                   1000 non-null   int64 \n",
      " 5   savings                  1000 non-null   object\n",
      " 6   employment_duration      1000 non-null   object\n",
      " 7   installment_rate         1000 non-null   object\n",
      " 8   personal_status_sex      1000 non-null   object\n",
      " 9   other_debtors            1000 non-null   object\n",
      " 10  present_residence        1000 non-null   object\n",
      " 11  property                 1000 non-null   object\n",
      " 12  age                      1000 non-null   int64 \n",
      " 13  other_installment_plans  1000 non-null   object\n",
      " 14  housing                  1000 non-null   object\n",
      " 15  number_credits           1000 non-null   object\n",
      " 16  job                      1000 non-null   object\n",
      " 17  people_liable            1000 non-null   object\n",
      " 18  telephone                1000 non-null   object\n",
      " 19  foreign_worker           1000 non-null   object\n",
      " 20  credit_risk              1000 non-null   object\n",
      "dtypes: int64(3), object(18)\n",
      "memory usage: 164.2+ KB\n"
     ]
    }
   ],
   "source": [
    "# your code here\n",
    "assert data.isnull().sum().sum() == 0  # нет пропусков\n",
    "data.info()"
   ]
  },
  {
   "cell_type": "markdown",
   "metadata": {},
   "source": [
    " ### Признаки\n",
    " - `количественные`: duration, amount, age\n",
    " - `бинарные`: telephone, foreign_worker, credit_risk\n",
    " - `порядковые`: status, savings, employment_duration, installment_rate, present_residence, number_credits, people_liable\n",
    " - `категориальные`: credit_history, purpose, personal_status_sex, other_debtors, property, other_installment_plans, housing, job"
   ]
  },
  {
   "cell_type": "code",
   "execution_count": 4,
   "metadata": {},
   "outputs": [
    {
     "data": {
      "text/plain": [
       "good    700\n",
       "bad     300\n",
       "Name: credit_risk, dtype: int64"
      ]
     },
     "execution_count": 4,
     "metadata": {},
     "output_type": "execute_result"
    }
   ],
   "source": [
    "data['credit_risk'].value_counts()"
   ]
  },
  {
   "cell_type": "code",
   "execution_count": null,
   "metadata": {},
   "outputs": [],
   "source": []
  },
  {
   "cell_type": "code",
   "execution_count": 5,
   "metadata": {},
   "outputs": [],
   "source": [
    "# # бинаризация признаков:\n",
    "# data['telephone'] = data['telephone'].apply(lambda x: 0 if x == 'no' else 1)\n",
    "# data['foreign_worker'] = data['foreign_worker'].apply(lambda x: 0 if x == 'no' else 1)\n",
    "# # 1 - good, 0 - bad\n",
    "# data['credit_risk'] = data['credit_risk'].apply(lambda x: 1 if x == 'good' else 0)"
   ]
  },
  {
   "cell_type": "markdown",
   "metadata": {
    "id": "SqPrAHdKRTIE"
   },
   "source": [
    "### Задание 3 (0.5 балла)"
   ]
  },
  {
   "cell_type": "markdown",
   "metadata": {
    "id": "KlMiEcHBRXhD"
   },
   "source": [
    "Выведите среднюю сумму кредита (колонка amount) в каждой категории (колонка purpose), воспользовавшись методом groupby."
   ]
  },
  {
   "cell_type": "code",
   "execution_count": 6,
   "metadata": {
    "id": "oXE_DvksRbpn"
   },
   "outputs": [
    {
     "data": {
      "text/plain": [
       "purpose\n",
       "business               8209.333333\n",
       "car (new)              5370.223301\n",
       "car (used)             3066.983425\n",
       "domestic appliances    2728.090909\n",
       "furniture/equipment    2487.685714\n",
       "others                 3062.948718\n",
       "radio/television       1498.000000\n",
       "repairs                3180.400000\n",
       "retraining             4158.041237\n",
       "vacation               1205.888889\n",
       "Name: amount, dtype: float64"
      ]
     },
     "execution_count": 6,
     "metadata": {},
     "output_type": "execute_result"
    }
   ],
   "source": [
    "# your code here\n",
    "data.groupby(\"purpose\")[\"amount\"].mean()"
   ]
  },
  {
   "cell_type": "markdown",
   "metadata": {
    "id": "mG3ALQRdu8le"
   },
   "source": [
    "### Задание 4 (0.5 балла)\n"
   ]
  },
  {
   "cell_type": "markdown",
   "metadata": {
    "id": "dlb3bBzTu8lf"
   },
   "source": [
    "Какой процент клиентов моложе 30 лет (колонка age) снимает жилье (колонка housing)? А какой процент клиентов старше 40 лет снимает жилье?"
   ]
  },
  {
   "cell_type": "code",
   "execution_count": 7,
   "metadata": {
    "id": "MbGsJVWQu8lf"
   },
   "outputs": [
    {
     "name": "stdout",
     "output_type": "stream",
     "text": [
      "66 % клиентов моложе 30 лет и 68 % старше 40 лет снимают жилье\n"
     ]
    }
   ],
   "source": [
    "# your code here\n",
    "a = data[(data['age'] < 30) & (data['housing'] == 'rent')].size / data[data['age'] < 30].size * 100\n",
    "b = data[(data['age'] > 40) & (data['housing'] == 'rent')].size / data[data['age'] > 40].size * 100\n",
    "print(int(a), '% клиентов моложе 30 лет и', int(b), '% старше 40 лет снимают жилье')"
   ]
  },
  {
   "cell_type": "markdown",
   "metadata": {
    "id": "-JG_63_nu8lf"
   },
   "source": [
    "### Задание 5 (0.5 балла)"
   ]
  },
  {
   "cell_type": "markdown",
   "metadata": {
    "id": "aEC7Jj5eu8lf"
   },
   "source": [
    " У скольких иностранцев (foreign_worker) число кредитов (number_credits) больше 3?"
   ]
  },
  {
   "cell_type": "code",
   "execution_count": 8,
   "metadata": {
    "id": "ScD09Oa4u8lf"
   },
   "outputs": [
    {
     "data": {
      "text/html": [
       "<div>\n",
       "<style scoped>\n",
       "    .dataframe tbody tr th:only-of-type {\n",
       "        vertical-align: middle;\n",
       "    }\n",
       "\n",
       "    .dataframe tbody tr th {\n",
       "        vertical-align: top;\n",
       "    }\n",
       "\n",
       "    .dataframe thead th {\n",
       "        text-align: right;\n",
       "    }\n",
       "</style>\n",
       "<table border=\"1\" class=\"dataframe\">\n",
       "  <thead>\n",
       "    <tr style=\"text-align: right;\">\n",
       "      <th></th>\n",
       "      <th>status</th>\n",
       "      <th>duration</th>\n",
       "      <th>credit_history</th>\n",
       "      <th>purpose</th>\n",
       "      <th>amount</th>\n",
       "      <th>savings</th>\n",
       "      <th>employment_duration</th>\n",
       "      <th>installment_rate</th>\n",
       "      <th>personal_status_sex</th>\n",
       "      <th>other_debtors</th>\n",
       "      <th>...</th>\n",
       "      <th>property</th>\n",
       "      <th>age</th>\n",
       "      <th>other_installment_plans</th>\n",
       "      <th>housing</th>\n",
       "      <th>number_credits</th>\n",
       "      <th>job</th>\n",
       "      <th>people_liable</th>\n",
       "      <th>telephone</th>\n",
       "      <th>foreign_worker</th>\n",
       "      <th>credit_risk</th>\n",
       "    </tr>\n",
       "  </thead>\n",
       "  <tbody>\n",
       "  </tbody>\n",
       "</table>\n",
       "<p>0 rows × 21 columns</p>\n",
       "</div>"
      ],
      "text/plain": [
       "Empty DataFrame\n",
       "Columns: [status, duration, credit_history, purpose, amount, savings, employment_duration, installment_rate, personal_status_sex, other_debtors, present_residence, property, age, other_installment_plans, housing, number_credits, job, people_liable, telephone, foreign_worker, credit_risk]\n",
       "Index: []\n",
       "\n",
       "[0 rows x 21 columns]"
      ]
     },
     "execution_count": 8,
     "metadata": {},
     "output_type": "execute_result"
    }
   ],
   "source": [
    "# your code here\n",
    "data[(data[\"foreign_worker\"] == 1) & ((data[\"number_credits\"] == '4-5') | (data[\"number_credits\"] == '>= 6'))]\n",
    "# у одного"
   ]
  },
  {
   "cell_type": "markdown",
   "metadata": {
    "id": "KAe_K_upu8lg"
   },
   "source": [
    "### Задание 6 (1 балл)"
   ]
  },
  {
   "cell_type": "code",
   "execution_count": 9,
   "metadata": {
    "id": "Q1pVde3gjPNB"
   },
   "outputs": [],
   "source": [
    "import numpy as np\n",
    "import matplotlib.pyplot as plt\n",
    "%matplotlib inline"
   ]
  },
  {
   "cell_type": "markdown",
   "metadata": {
    "id": "aW45ioAJjWMo"
   },
   "source": [
    "Используя numpy и matplotlib, начнём с тренировки: постройте график функций $sin(x)$ и $cos(x)$ от $-\\pi$ до $\\pi$ из 100 точек c легендой и сеткой. Используйте для линий разные цвета, одна из них пусть будет пунктирной. Результат в этом и следующих заданиях на построение графиков должен получиться примерно как на картинке. Содержание подписей не должно обязательно совпадать, однако осмысленные подписи должны присутствовать на графиках."
   ]
  },
  {
   "cell_type": "code",
   "execution_count": 10,
   "metadata": {},
   "outputs": [
    {
     "data": {
      "image/png": "[encoded data removed]",
      "text/plain": [
       "<Figure size 432x288 with 1 Axes>"
      ]
     },
     "metadata": {
      "needs_background": "light"
     },
     "output_type": "display_data"
    }
   ],
   "source": [
    "x = np.linspace(-np.pi, np.pi, 100)\n",
    "\n",
    "fig, ax = plt.subplots()\n",
    "\n",
    "ax.plot(x, np.sin(x), color='c', label='y=sin(x)')\n",
    "ax.plot(x, np.cos(x), '--', color='m', label='y=cos(x)')\n",
    "ax.legend()\n",
    "ax.grid()\n",
    "plt.show()"
   ]
  },
  {
   "cell_type": "markdown",
   "metadata": {
    "id": "toFoOig2u8lh"
   },
   "source": [
    "### Задание 7 (1 балл)"
   ]
  },
  {
   "cell_type": "markdown",
   "metadata": {
    "id": "9I3yl5dEu8lh"
   },
   "source": [
    "Рассмотрим сравнительное количество положительных и отрицательных кейсов в зависимости от размера текущего счёта. Постройте зеркальные горизонтальные гистограммы."
   ]
  },
  {
   "cell_type": "code",
   "execution_count": 11,
   "metadata": {
    "colab": {
     "base_uri": "https://localhost:8080/",
     "height": 373
    },
    "id": "sqXmg0V3u8li",
    "outputId": "1bb93982-356f-4db5-e6c1-e1d5611d6fd5"
   },
   "outputs": [
    {
     "data": {
      "text/html": [
       "<div>\n",
       "<style scoped>\n",
       "    .dataframe tbody tr th:only-of-type {\n",
       "        vertical-align: middle;\n",
       "    }\n",
       "\n",
       "    .dataframe tbody tr th {\n",
       "        vertical-align: top;\n",
       "    }\n",
       "\n",
       "    .dataframe thead th {\n",
       "        text-align: right;\n",
       "    }\n",
       "</style>\n",
       "<table border=\"1\" class=\"dataframe\">\n",
       "  <thead>\n",
       "    <tr style=\"text-align: right;\">\n",
       "      <th>credit_risk</th>\n",
       "      <th>bad</th>\n",
       "      <th>good</th>\n",
       "    </tr>\n",
       "    <tr>\n",
       "      <th>status</th>\n",
       "      <th></th>\n",
       "      <th></th>\n",
       "    </tr>\n",
       "  </thead>\n",
       "  <tbody>\n",
       "    <tr>\n",
       "      <th>... &lt; 0 DM</th>\n",
       "      <td>105</td>\n",
       "      <td>164</td>\n",
       "    </tr>\n",
       "    <tr>\n",
       "      <th>... &gt;= 200 DM / salary for at least 1 year</th>\n",
       "      <td>46</td>\n",
       "      <td>348</td>\n",
       "    </tr>\n",
       "    <tr>\n",
       "      <th>0&lt;= ... &lt; 200 DM</th>\n",
       "      <td>14</td>\n",
       "      <td>49</td>\n",
       "    </tr>\n",
       "    <tr>\n",
       "      <th>no checking account</th>\n",
       "      <td>135</td>\n",
       "      <td>139</td>\n",
       "    </tr>\n",
       "  </tbody>\n",
       "</table>\n",
       "</div>"
      ],
      "text/plain": [
       "credit_risk                                 bad  good\n",
       "status                                               \n",
       "... < 0 DM                                  105   164\n",
       "... >= 200 DM / salary for at least 1 year   46   348\n",
       "0<= ... < 200 DM                             14    49\n",
       "no checking account                         135   139"
      ]
     },
     "execution_count": 11,
     "metadata": {},
     "output_type": "execute_result"
    }
   ],
   "source": [
    "# your code here\n",
    "data7 = data.groupby(['status', 'credit_risk'])['job'].count().unstack()\n",
    "data7"
   ]
  },
  {
   "cell_type": "code",
   "execution_count": 12,
   "metadata": {},
   "outputs": [
    {
     "data": {
      "image/png": "[encoded data removed]",
      "text/plain": [
       "<Figure size 1008x360 with 2 Axes>"
      ]
     },
     "metadata": {
      "needs_background": "light"
     },
     "output_type": "display_data"
    }
   ],
   "source": [
    "fig, axes = plt.subplots(ncols=2, figsize=(14, 5))\n",
    "\n",
    "axes[0].barh(data7.index, data7.good, color='g')\n",
    "axes[1].barh(data7.index, data7.bad, color='black')\n",
    "\n",
    "axes[0].invert_xaxis()\n",
    "axes[1].yaxis.tick_right()\n",
    "\n",
    "axes[0].set_title(\"good credit risk\")\n",
    "axes[1].set_title(\"bad credit risk\")\n",
    "plt.xlim([0, 350])\n",
    "\n",
    "fig.tight_layout()"
   ]
  },
  {
   "cell_type": "markdown",
   "metadata": {
    "id": "bfJALnuMu8li"
   },
   "source": [
    "### Задание 8  (0.5 балла)"
   ]
  },
  {
   "cell_type": "code",
   "execution_count": 13,
   "metadata": {
    "id": "Yi_RIvTx00EE"
   },
   "outputs": [
    {
     "data": {
      "text/html": [
       "<div>\n",
       "<style scoped>\n",
       "    .dataframe tbody tr th:only-of-type {\n",
       "        vertical-align: middle;\n",
       "    }\n",
       "\n",
       "    .dataframe tbody tr th {\n",
       "        vertical-align: top;\n",
       "    }\n",
       "\n",
       "    .dataframe thead th {\n",
       "        text-align: right;\n",
       "    }\n",
       "</style>\n",
       "<table border=\"1\" class=\"dataframe\">\n",
       "  <thead>\n",
       "    <tr style=\"text-align: right;\">\n",
       "      <th></th>\n",
       "      <th>status</th>\n",
       "      <th>duration</th>\n",
       "      <th>credit_history</th>\n",
       "      <th>purpose</th>\n",
       "      <th>amount</th>\n",
       "      <th>savings</th>\n",
       "      <th>employment_duration</th>\n",
       "      <th>installment_rate</th>\n",
       "      <th>personal_status_sex</th>\n",
       "      <th>other_debtors</th>\n",
       "      <th>...</th>\n",
       "      <th>property</th>\n",
       "      <th>age</th>\n",
       "      <th>other_installment_plans</th>\n",
       "      <th>housing</th>\n",
       "      <th>number_credits</th>\n",
       "      <th>job</th>\n",
       "      <th>people_liable</th>\n",
       "      <th>telephone</th>\n",
       "      <th>foreign_worker</th>\n",
       "      <th>credit_risk</th>\n",
       "    </tr>\n",
       "  </thead>\n",
       "  <tbody>\n",
       "    <tr>\n",
       "      <th>0</th>\n",
       "      <td>no checking account</td>\n",
       "      <td>18</td>\n",
       "      <td>all credits at this bank paid back duly</td>\n",
       "      <td>car (used)</td>\n",
       "      <td>1049</td>\n",
       "      <td>unknown/no savings account</td>\n",
       "      <td>&lt; 1 yr</td>\n",
       "      <td>&lt; 20</td>\n",
       "      <td>female : non-single or male : single</td>\n",
       "      <td>none</td>\n",
       "      <td>...</td>\n",
       "      <td>car or other</td>\n",
       "      <td>21</td>\n",
       "      <td>none</td>\n",
       "      <td>for free</td>\n",
       "      <td>1</td>\n",
       "      <td>skilled employee/official</td>\n",
       "      <td>0 to 2</td>\n",
       "      <td>no</td>\n",
       "      <td>no</td>\n",
       "      <td>good</td>\n",
       "    </tr>\n",
       "    <tr>\n",
       "      <th>1</th>\n",
       "      <td>no checking account</td>\n",
       "      <td>9</td>\n",
       "      <td>all credits at this bank paid back duly</td>\n",
       "      <td>others</td>\n",
       "      <td>2799</td>\n",
       "      <td>unknown/no savings account</td>\n",
       "      <td>1 &lt;= ... &lt; 4 yrs</td>\n",
       "      <td>25 &lt;= ... &lt; 35</td>\n",
       "      <td>male : married/widowed</td>\n",
       "      <td>none</td>\n",
       "      <td>...</td>\n",
       "      <td>unknown / no property</td>\n",
       "      <td>36</td>\n",
       "      <td>none</td>\n",
       "      <td>for free</td>\n",
       "      <td>2-3</td>\n",
       "      <td>skilled employee/official</td>\n",
       "      <td>3 or more</td>\n",
       "      <td>no</td>\n",
       "      <td>no</td>\n",
       "      <td>good</td>\n",
       "    </tr>\n",
       "    <tr>\n",
       "      <th>2</th>\n",
       "      <td>... &lt; 0 DM</td>\n",
       "      <td>12</td>\n",
       "      <td>no credits taken/all credits paid back duly</td>\n",
       "      <td>retraining</td>\n",
       "      <td>841</td>\n",
       "      <td>... &lt;  100 DM</td>\n",
       "      <td>4 &lt;= ... &lt; 7 yrs</td>\n",
       "      <td>25 &lt;= ... &lt; 35</td>\n",
       "      <td>female : non-single or male : single</td>\n",
       "      <td>none</td>\n",
       "      <td>...</td>\n",
       "      <td>unknown / no property</td>\n",
       "      <td>23</td>\n",
       "      <td>none</td>\n",
       "      <td>for free</td>\n",
       "      <td>1</td>\n",
       "      <td>unskilled - resident</td>\n",
       "      <td>0 to 2</td>\n",
       "      <td>no</td>\n",
       "      <td>no</td>\n",
       "      <td>good</td>\n",
       "    </tr>\n",
       "    <tr>\n",
       "      <th>3</th>\n",
       "      <td>no checking account</td>\n",
       "      <td>12</td>\n",
       "      <td>all credits at this bank paid back duly</td>\n",
       "      <td>others</td>\n",
       "      <td>2122</td>\n",
       "      <td>unknown/no savings account</td>\n",
       "      <td>1 &lt;= ... &lt; 4 yrs</td>\n",
       "      <td>20 &lt;= ... &lt; 25</td>\n",
       "      <td>male : married/widowed</td>\n",
       "      <td>none</td>\n",
       "      <td>...</td>\n",
       "      <td>unknown / no property</td>\n",
       "      <td>39</td>\n",
       "      <td>none</td>\n",
       "      <td>for free</td>\n",
       "      <td>2-3</td>\n",
       "      <td>unskilled - resident</td>\n",
       "      <td>3 or more</td>\n",
       "      <td>no</td>\n",
       "      <td>yes</td>\n",
       "      <td>good</td>\n",
       "    </tr>\n",
       "    <tr>\n",
       "      <th>4</th>\n",
       "      <td>no checking account</td>\n",
       "      <td>12</td>\n",
       "      <td>all credits at this bank paid back duly</td>\n",
       "      <td>others</td>\n",
       "      <td>2171</td>\n",
       "      <td>unknown/no savings account</td>\n",
       "      <td>1 &lt;= ... &lt; 4 yrs</td>\n",
       "      <td>&lt; 20</td>\n",
       "      <td>male : married/widowed</td>\n",
       "      <td>none</td>\n",
       "      <td>...</td>\n",
       "      <td>car or other</td>\n",
       "      <td>38</td>\n",
       "      <td>bank</td>\n",
       "      <td>rent</td>\n",
       "      <td>2-3</td>\n",
       "      <td>unskilled - resident</td>\n",
       "      <td>0 to 2</td>\n",
       "      <td>no</td>\n",
       "      <td>yes</td>\n",
       "      <td>good</td>\n",
       "    </tr>\n",
       "  </tbody>\n",
       "</table>\n",
       "<p>5 rows × 21 columns</p>\n",
       "</div>"
      ],
      "text/plain": [
       "                status  duration                               credit_history  \\\n",
       "0  no checking account        18      all credits at this bank paid back duly   \n",
       "1  no checking account         9      all credits at this bank paid back duly   \n",
       "2           ... < 0 DM        12  no credits taken/all credits paid back duly   \n",
       "3  no checking account        12      all credits at this bank paid back duly   \n",
       "4  no checking account        12      all credits at this bank paid back duly   \n",
       "\n",
       "      purpose  amount                     savings employment_duration  \\\n",
       "0  car (used)    1049  unknown/no savings account              < 1 yr   \n",
       "1      others    2799  unknown/no savings account    1 <= ... < 4 yrs   \n",
       "2  retraining     841               ... <  100 DM    4 <= ... < 7 yrs   \n",
       "3      others    2122  unknown/no savings account    1 <= ... < 4 yrs   \n",
       "4      others    2171  unknown/no savings account    1 <= ... < 4 yrs   \n",
       "\n",
       "  installment_rate                   personal_status_sex other_debtors  ...  \\\n",
       "0             < 20  female : non-single or male : single          none  ...   \n",
       "1   25 <= ... < 35                male : married/widowed          none  ...   \n",
       "2   25 <= ... < 35  female : non-single or male : single          none  ...   \n",
       "3   20 <= ... < 25                male : married/widowed          none  ...   \n",
       "4             < 20                male : married/widowed          none  ...   \n",
       "\n",
       "                property age  other_installment_plans   housing  \\\n",
       "0           car or other  21                     none  for free   \n",
       "1  unknown / no property  36                     none  for free   \n",
       "2  unknown / no property  23                     none  for free   \n",
       "3  unknown / no property  39                     none  for free   \n",
       "4           car or other  38                     bank      rent   \n",
       "\n",
       "  number_credits                        job people_liable telephone  \\\n",
       "0              1  skilled employee/official        0 to 2        no   \n",
       "1            2-3  skilled employee/official     3 or more        no   \n",
       "2              1       unskilled - resident        0 to 2        no   \n",
       "3            2-3       unskilled - resident     3 or more        no   \n",
       "4            2-3       unskilled - resident        0 to 2        no   \n",
       "\n",
       "  foreign_worker credit_risk  \n",
       "0             no        good  \n",
       "1             no        good  \n",
       "2             no        good  \n",
       "3            yes        good  \n",
       "4            yes        good  \n",
       "\n",
       "[5 rows x 21 columns]"
      ]
     },
     "execution_count": 13,
     "metadata": {},
     "output_type": "execute_result"
    }
   ],
   "source": [
    "import seaborn as sns\n",
    "data.head()"
   ]
  },
  {
   "cell_type": "markdown",
   "metadata": {
    "id": "mFbzcUiwu8li"
   },
   "source": [
    "Теперь постройте гистограмму для сравнения количества положительных и отрицательных кейсов в зависимости от размера сберегательного счёта с помощью seaborn. Какой способ вам больше нравится с точки зрения трудоёмкости написания кода? А с точки зрения восприятия результата?"
   ]
  },
  {
   "cell_type": "code",
   "execution_count": 14,
   "metadata": {
    "colab": {
     "base_uri": "https://localhost:8080/",
     "height": 334
    },
    "id": "ZFe21FDJu8li",
    "outputId": "b6b62e36-4dc7-481d-f972-bc5296f4a505"
   },
   "outputs": [
    {
     "data": {
      "text/plain": [
       "<AxesSubplot:xlabel='savings', ylabel='count'>"
      ]
     },
     "execution_count": 14,
     "metadata": {},
     "output_type": "execute_result"
    },
    {
     "data": {
      "image/png": "[encoded data removed]",
      "text/plain": [
       "<Figure size 842.4x595.44 with 1 Axes>"
      ]
     },
     "metadata": {
      "needs_background": "light"
     },
     "output_type": "display_data"
    }
   ],
   "source": [
    "# your code here\n",
    "fig, ax = plt.subplots()\n",
    "fig.set_size_inches(11.7, 8.27) # (the size of A4 paper)\n",
    "\n",
    "sns.countplot(data=data, x='savings', hue=\"credit_risk\")\n",
    "# Через seaborn в разы легче строить графики,\n",
    "# которые дают одинаковый результат"
   ]
  },
  {
   "cell_type": "markdown",
   "metadata": {
    "id": "86JCla6mu8li"
   },
   "source": [
    "### Задание 9  (1 балл)"
   ]
  },
  {
   "cell_type": "markdown",
   "metadata": {
    "id": "KDWT_Zx4u8lj"
   },
   "source": [
    "seaborn легко позволяет добавить ещё больше информации на один график. Для каждого размера сберегательного счёта мы можем оценить не только количество положительных и отрицательных кейсов, но и их распределение по возрасту, например. Постройте подходящую для этого визуализацию."
   ]
  },
  {
   "cell_type": "code",
   "execution_count": 15,
   "metadata": {
    "colab": {
     "base_uri": "https://localhost:8080/",
     "height": 442
    },
    "id": "_jyzuliwu8lj",
    "outputId": "686f5314-d24e-46e3-ec51-b3e96ed3e1ec"
   },
   "outputs": [
    {
     "data": {
      "text/plain": [
       "<AxesSubplot:xlabel='savings', ylabel='age'>"
      ]
     },
     "execution_count": 15,
     "metadata": {},
     "output_type": "execute_result"
    },
    {
     "data": {
      "image/png": "[encoded data removed]",
      "text/plain": [
       "<Figure size 864x432 with 1 Axes>"
      ]
     },
     "metadata": {
      "needs_background": "light"
     },
     "output_type": "display_data"
    }
   ],
   "source": [
    "# your code here\n",
    "plt.figure(figsize=(12,6))\n",
    "sns.violinplot(data=data, x='savings', y='age', hue='credit_risk', split=True, palette='pink')"
   ]
  },
  {
   "cell_type": "markdown",
   "metadata": {
    "id": "Q6ZBM9nqu8lj"
   },
   "source": [
    "### Задание 10  (0.5 балла)"
   ]
  },
  {
   "cell_type": "markdown",
   "metadata": {
    "id": "9w1ch-1cu8lj"
   },
   "source": [
    "Заканчивая с гистограммами, посмотрим на распределение положительных и отрицательных кейсов по возрастам, разместив их друг над другом. Добавим распределение всех взятых кредитов."
   ]
  },
  {
   "cell_type": "code",
   "execution_count": 16,
   "metadata": {
    "colab": {
     "base_uri": "https://localhost:8080/",
     "height": 663
    },
    "id": "_hWi9-MVEQf0",
    "outputId": "90b55c97-a3c7-4285-9f81-deaf5471be8b"
   },
   "outputs": [
    {
     "data": {
      "text/plain": [
       "<matplotlib.legend.Legend at 0x7ff890f65160>"
      ]
     },
     "execution_count": 16,
     "metadata": {},
     "output_type": "execute_result"
    },
    {
     "data": {
      "image/png": "[encoded data removed]",
      "text/plain": [
       "<Figure size 432x576 with 3 Axes>"
      ]
     },
     "metadata": {
      "needs_background": "light"
     },
     "output_type": "display_data"
    }
   ],
   "source": [
    "# your code here\n",
    "fig, axes = plt.subplots(nrows=3, figsize=(6, 8))\n",
    "sns.histplot(x=\"age\", data=data[data[\"credit_risk\"] == \"good\"], ax=axes[0], color='g').set(ylim=(0,150), xlabel='')\n",
    "sns.histplot(x=\"age\", data=data[data[\"credit_risk\"] == \"bad\"], ax=axes[1], color='red').set(ylim=(0,150), xlabel='')\n",
    "sns.histplot(x=\"age\", data=data, ax=axes[2]).set(ylim=(0,150))\n",
    "fig.legend([\"Good credits age distribution\", \"Bad credits age distribution\", \"Overall age distribution\"])"
   ]
  },
  {
   "cell_type": "markdown",
   "metadata": {
    "id": "PVrJUff5u8lj"
   },
   "source": [
    "### Задание 11  (0.5 балла)"
   ]
  },
  {
   "cell_type": "markdown",
   "metadata": {
    "id": "Vh20VqxOu8lk"
   },
   "source": [
    "Не менее полезной иногда может быть диаграмма рассеяния. Постройте такую диаграмму с продолжительностью и размерами кредитов в качестве осей. Обозначьте положительные и отрицательные кейсы разными цветами."
   ]
  },
  {
   "cell_type": "code",
   "execution_count": 17,
   "metadata": {
    "colab": {
     "base_uri": "https://localhost:8080/",
     "height": 497
    },
    "id": "PEAmiINUu8lk",
    "outputId": "4886ccea-b046-4e51-fd17-2a8a47ea24ea"
   },
   "outputs": [
    {
     "data": {
      "text/plain": [
       "<AxesSubplot:xlabel='amount', ylabel='duration'>"
      ]
     },
     "execution_count": 17,
     "metadata": {},
     "output_type": "execute_result"
    },
    {
     "data": {
      "image/png": "[encoded data removed]",
      "text/plain": [
       "<Figure size 842.4x595.44 with 1 Axes>"
      ]
     },
     "metadata": {
      "needs_background": "light"
     },
     "output_type": "display_data"
    }
   ],
   "source": [
    "# your code here\n",
    "fig, ax = plt.subplots()\n",
    "fig.set_size_inches(11.7, 8.27) # (the size of A4 paper)\n",
    "\n",
    "sns.scatterplot(x='amount', y='duration', data=data, hue='credit_risk')"
   ]
  },
  {
   "cell_type": "markdown",
   "metadata": {
    "id": "mePIgqPqu8lk"
   },
   "source": [
    "### Задание 12  (1 балл)"
   ]
  },
  {
   "cell_type": "markdown",
   "metadata": {
    "id": "HWD2qUbLu8lk"
   },
   "source": [
    "Продвинемся глубже. Постройте 3D версию диаграммы рассеяния, добавив ось с возрастом."
   ]
  },
  {
   "cell_type": "code",
   "execution_count": 18,
   "metadata": {
    "colab": {
     "base_uri": "https://localhost:8080/",
     "height": 466
    },
    "id": "SU2bmkPIu8lk",
    "outputId": "bccaab35-5fc2-4249-8ae2-309e53dcbd26"
   },
   "outputs": [
    {
     "data": {
      "image/png": "[encoded data removed]",
      "text/plain": [
       "<Figure size 720x720 with 1 Axes>"
      ]
     },
     "metadata": {},
     "output_type": "display_data"
    }
   ],
   "source": [
    "# your code here\n",
    "sns.set(style = \"darkgrid\")\n",
    "fig = plt.figure()\n",
    "fig.set_size_inches(10, 10)\n",
    "\n",
    "ax = fig.add_subplot(111, projection = '3d')\n",
    "\n",
    "xg = data[data['credit_risk'] == \"good\"]['amount']\n",
    "yg = data[data['credit_risk'] == \"good\"]['duration']\n",
    "zg = data[data['credit_risk'] == \"good\"]['age']\n",
    "\n",
    "xb = data[data['credit_risk'] == \"bad\"]['amount']\n",
    "yb = data[data['credit_risk'] == \"bad\"]['duration']\n",
    "zb = data[data['credit_risk'] == \"bad\"]['age']\n",
    "\n",
    "ax.set_xlabel(\"Amount\")\n",
    "ax.set_ylabel(\"Duration\")\n",
    "ax.set_zlabel(\"Age\")\n",
    "\n",
    "ax.scatter(xg, yg, zg, color='g')\n",
    "ax.scatter(xb, yb, zb, color='r')\n",
    "\n",
    "\n",
    "plt.show()"
   ]
  },
  {
   "cell_type": "markdown",
   "metadata": {
    "id": "8Zxx_kxSYa_l"
   },
   "source": [
    "### Задание 13  (0.5 балла)"
   ]
  },
  {
   "cell_type": "markdown",
   "metadata": {
    "id": "5YBhNGg6Yjuw"
   },
   "source": [
    "Представьте все порядковые и бинарные признаки в виде числовых значений {0, ..., n - 1}, где n это количество значений признака. Избавьтесь от категориальных признаков."
   ]
  },
  {
   "cell_type": "code",
   "execution_count": 19,
   "metadata": {
    "id": "81_7p_bEYjuw",
    "scrolled": true
   },
   "outputs": [
    {
     "data": {
      "text/html": [
       "<div>\n",
       "<style scoped>\n",
       "    .dataframe tbody tr th:only-of-type {\n",
       "        vertical-align: middle;\n",
       "    }\n",
       "\n",
       "    .dataframe tbody tr th {\n",
       "        vertical-align: top;\n",
       "    }\n",
       "\n",
       "    .dataframe thead th {\n",
       "        text-align: right;\n",
       "    }\n",
       "</style>\n",
       "<table border=\"1\" class=\"dataframe\">\n",
       "  <thead>\n",
       "    <tr style=\"text-align: right;\">\n",
       "      <th></th>\n",
       "      <th>status</th>\n",
       "      <th>duration</th>\n",
       "      <th>credit_history</th>\n",
       "      <th>purpose</th>\n",
       "      <th>amount</th>\n",
       "      <th>savings</th>\n",
       "      <th>employment_duration</th>\n",
       "      <th>installment_rate</th>\n",
       "      <th>personal_status_sex</th>\n",
       "      <th>other_debtors</th>\n",
       "      <th>...</th>\n",
       "      <th>property</th>\n",
       "      <th>age</th>\n",
       "      <th>other_installment_plans</th>\n",
       "      <th>housing</th>\n",
       "      <th>number_credits</th>\n",
       "      <th>job</th>\n",
       "      <th>people_liable</th>\n",
       "      <th>telephone</th>\n",
       "      <th>foreign_worker</th>\n",
       "      <th>credit_risk</th>\n",
       "    </tr>\n",
       "  </thead>\n",
       "  <tbody>\n",
       "    <tr>\n",
       "      <th>0</th>\n",
       "      <td>no checking account</td>\n",
       "      <td>18</td>\n",
       "      <td>all credits at this bank paid back duly</td>\n",
       "      <td>car (used)</td>\n",
       "      <td>1049</td>\n",
       "      <td>unknown/no savings account</td>\n",
       "      <td>&lt; 1 yr</td>\n",
       "      <td>&lt; 20</td>\n",
       "      <td>female : non-single or male : single</td>\n",
       "      <td>none</td>\n",
       "      <td>...</td>\n",
       "      <td>car or other</td>\n",
       "      <td>21</td>\n",
       "      <td>none</td>\n",
       "      <td>for free</td>\n",
       "      <td>1</td>\n",
       "      <td>skilled employee/official</td>\n",
       "      <td>0 to 2</td>\n",
       "      <td>no</td>\n",
       "      <td>no</td>\n",
       "      <td>good</td>\n",
       "    </tr>\n",
       "    <tr>\n",
       "      <th>1</th>\n",
       "      <td>no checking account</td>\n",
       "      <td>9</td>\n",
       "      <td>all credits at this bank paid back duly</td>\n",
       "      <td>others</td>\n",
       "      <td>2799</td>\n",
       "      <td>unknown/no savings account</td>\n",
       "      <td>1 &lt;= ... &lt; 4 yrs</td>\n",
       "      <td>25 &lt;= ... &lt; 35</td>\n",
       "      <td>male : married/widowed</td>\n",
       "      <td>none</td>\n",
       "      <td>...</td>\n",
       "      <td>unknown / no property</td>\n",
       "      <td>36</td>\n",
       "      <td>none</td>\n",
       "      <td>for free</td>\n",
       "      <td>2-3</td>\n",
       "      <td>skilled employee/official</td>\n",
       "      <td>3 or more</td>\n",
       "      <td>no</td>\n",
       "      <td>no</td>\n",
       "      <td>good</td>\n",
       "    </tr>\n",
       "    <tr>\n",
       "      <th>2</th>\n",
       "      <td>... &lt; 0 DM</td>\n",
       "      <td>12</td>\n",
       "      <td>no credits taken/all credits paid back duly</td>\n",
       "      <td>retraining</td>\n",
       "      <td>841</td>\n",
       "      <td>... &lt;  100 DM</td>\n",
       "      <td>4 &lt;= ... &lt; 7 yrs</td>\n",
       "      <td>25 &lt;= ... &lt; 35</td>\n",
       "      <td>female : non-single or male : single</td>\n",
       "      <td>none</td>\n",
       "      <td>...</td>\n",
       "      <td>unknown / no property</td>\n",
       "      <td>23</td>\n",
       "      <td>none</td>\n",
       "      <td>for free</td>\n",
       "      <td>1</td>\n",
       "      <td>unskilled - resident</td>\n",
       "      <td>0 to 2</td>\n",
       "      <td>no</td>\n",
       "      <td>no</td>\n",
       "      <td>good</td>\n",
       "    </tr>\n",
       "    <tr>\n",
       "      <th>3</th>\n",
       "      <td>no checking account</td>\n",
       "      <td>12</td>\n",
       "      <td>all credits at this bank paid back duly</td>\n",
       "      <td>others</td>\n",
       "      <td>2122</td>\n",
       "      <td>unknown/no savings account</td>\n",
       "      <td>1 &lt;= ... &lt; 4 yrs</td>\n",
       "      <td>20 &lt;= ... &lt; 25</td>\n",
       "      <td>male : married/widowed</td>\n",
       "      <td>none</td>\n",
       "      <td>...</td>\n",
       "      <td>unknown / no property</td>\n",
       "      <td>39</td>\n",
       "      <td>none</td>\n",
       "      <td>for free</td>\n",
       "      <td>2-3</td>\n",
       "      <td>unskilled - resident</td>\n",
       "      <td>3 or more</td>\n",
       "      <td>no</td>\n",
       "      <td>yes</td>\n",
       "      <td>good</td>\n",
       "    </tr>\n",
       "    <tr>\n",
       "      <th>4</th>\n",
       "      <td>no checking account</td>\n",
       "      <td>12</td>\n",
       "      <td>all credits at this bank paid back duly</td>\n",
       "      <td>others</td>\n",
       "      <td>2171</td>\n",
       "      <td>unknown/no savings account</td>\n",
       "      <td>1 &lt;= ... &lt; 4 yrs</td>\n",
       "      <td>&lt; 20</td>\n",
       "      <td>male : married/widowed</td>\n",
       "      <td>none</td>\n",
       "      <td>...</td>\n",
       "      <td>car or other</td>\n",
       "      <td>38</td>\n",
       "      <td>bank</td>\n",
       "      <td>rent</td>\n",
       "      <td>2-3</td>\n",
       "      <td>unskilled - resident</td>\n",
       "      <td>0 to 2</td>\n",
       "      <td>no</td>\n",
       "      <td>yes</td>\n",
       "      <td>good</td>\n",
       "    </tr>\n",
       "  </tbody>\n",
       "</table>\n",
       "<p>5 rows × 21 columns</p>\n",
       "</div>"
      ],
      "text/plain": [
       "                status  duration                               credit_history  \\\n",
       "0  no checking account        18      all credits at this bank paid back duly   \n",
       "1  no checking account         9      all credits at this bank paid back duly   \n",
       "2           ... < 0 DM        12  no credits taken/all credits paid back duly   \n",
       "3  no checking account        12      all credits at this bank paid back duly   \n",
       "4  no checking account        12      all credits at this bank paid back duly   \n",
       "\n",
       "      purpose  amount                     savings employment_duration  \\\n",
       "0  car (used)    1049  unknown/no savings account              < 1 yr   \n",
       "1      others    2799  unknown/no savings account    1 <= ... < 4 yrs   \n",
       "2  retraining     841               ... <  100 DM    4 <= ... < 7 yrs   \n",
       "3      others    2122  unknown/no savings account    1 <= ... < 4 yrs   \n",
       "4      others    2171  unknown/no savings account    1 <= ... < 4 yrs   \n",
       "\n",
       "  installment_rate                   personal_status_sex other_debtors  ...  \\\n",
       "0             < 20  female : non-single or male : single          none  ...   \n",
       "1   25 <= ... < 35                male : married/widowed          none  ...   \n",
       "2   25 <= ... < 35  female : non-single or male : single          none  ...   \n",
       "3   20 <= ... < 25                male : married/widowed          none  ...   \n",
       "4             < 20                male : married/widowed          none  ...   \n",
       "\n",
       "                property age  other_installment_plans   housing  \\\n",
       "0           car or other  21                     none  for free   \n",
       "1  unknown / no property  36                     none  for free   \n",
       "2  unknown / no property  23                     none  for free   \n",
       "3  unknown / no property  39                     none  for free   \n",
       "4           car or other  38                     bank      rent   \n",
       "\n",
       "  number_credits                        job people_liable telephone  \\\n",
       "0              1  skilled employee/official        0 to 2        no   \n",
       "1            2-3  skilled employee/official     3 or more        no   \n",
       "2              1       unskilled - resident        0 to 2        no   \n",
       "3            2-3       unskilled - resident     3 or more        no   \n",
       "4            2-3       unskilled - resident        0 to 2        no   \n",
       "\n",
       "  foreign_worker credit_risk  \n",
       "0             no        good  \n",
       "1             no        good  \n",
       "2             no        good  \n",
       "3            yes        good  \n",
       "4            yes        good  \n",
       "\n",
       "[5 rows x 21 columns]"
      ]
     },
     "execution_count": 19,
     "metadata": {},
     "output_type": "execute_result"
    }
   ],
   "source": [
    "# Рекавери:\n",
    "# data = pd.read_csv(\"https://raw.githubusercontent.com/PersDep/data-mining-intro-2021/main/hw03-EDA-data/german_credit.csv\")\n",
    "data.head()"
   ]
  },
  {
   "cell_type": "code",
   "execution_count": 20,
   "metadata": {},
   "outputs": [
    {
     "data": {
      "text/html": [
       "<div>\n",
       "<style scoped>\n",
       "    .dataframe tbody tr th:only-of-type {\n",
       "        vertical-align: middle;\n",
       "    }\n",
       "\n",
       "    .dataframe tbody tr th {\n",
       "        vertical-align: top;\n",
       "    }\n",
       "\n",
       "    .dataframe thead th {\n",
       "        text-align: right;\n",
       "    }\n",
       "</style>\n",
       "<table border=\"1\" class=\"dataframe\">\n",
       "  <thead>\n",
       "    <tr style=\"text-align: right;\">\n",
       "      <th></th>\n",
       "      <th>status</th>\n",
       "      <th>duration</th>\n",
       "      <th>amount</th>\n",
       "      <th>savings</th>\n",
       "      <th>employment_duration</th>\n",
       "      <th>installment_rate</th>\n",
       "      <th>present_residence</th>\n",
       "      <th>age</th>\n",
       "      <th>number_credits</th>\n",
       "      <th>people_liable</th>\n",
       "      <th>telephone</th>\n",
       "      <th>foreign_worker</th>\n",
       "      <th>credit_risk</th>\n",
       "    </tr>\n",
       "  </thead>\n",
       "  <tbody>\n",
       "    <tr>\n",
       "      <th>0</th>\n",
       "      <td>no checking account</td>\n",
       "      <td>18</td>\n",
       "      <td>1049</td>\n",
       "      <td>unknown/no savings account</td>\n",
       "      <td>&lt; 1 yr</td>\n",
       "      <td>&lt; 20</td>\n",
       "      <td>&gt;= 7 yrs</td>\n",
       "      <td>21</td>\n",
       "      <td>1</td>\n",
       "      <td>0 to 2</td>\n",
       "      <td>no</td>\n",
       "      <td>no</td>\n",
       "      <td>good</td>\n",
       "    </tr>\n",
       "    <tr>\n",
       "      <th>1</th>\n",
       "      <td>no checking account</td>\n",
       "      <td>9</td>\n",
       "      <td>2799</td>\n",
       "      <td>unknown/no savings account</td>\n",
       "      <td>1 &lt;= ... &lt; 4 yrs</td>\n",
       "      <td>25 &lt;= ... &lt; 35</td>\n",
       "      <td>1 &lt;= ... &lt; 4 yrs</td>\n",
       "      <td>36</td>\n",
       "      <td>2-3</td>\n",
       "      <td>3 or more</td>\n",
       "      <td>no</td>\n",
       "      <td>no</td>\n",
       "      <td>good</td>\n",
       "    </tr>\n",
       "    <tr>\n",
       "      <th>2</th>\n",
       "      <td>... &lt; 0 DM</td>\n",
       "      <td>12</td>\n",
       "      <td>841</td>\n",
       "      <td>... &lt;  100 DM</td>\n",
       "      <td>4 &lt;= ... &lt; 7 yrs</td>\n",
       "      <td>25 &lt;= ... &lt; 35</td>\n",
       "      <td>&gt;= 7 yrs</td>\n",
       "      <td>23</td>\n",
       "      <td>1</td>\n",
       "      <td>0 to 2</td>\n",
       "      <td>no</td>\n",
       "      <td>no</td>\n",
       "      <td>good</td>\n",
       "    </tr>\n",
       "    <tr>\n",
       "      <th>3</th>\n",
       "      <td>no checking account</td>\n",
       "      <td>12</td>\n",
       "      <td>2122</td>\n",
       "      <td>unknown/no savings account</td>\n",
       "      <td>1 &lt;= ... &lt; 4 yrs</td>\n",
       "      <td>20 &lt;= ... &lt; 25</td>\n",
       "      <td>1 &lt;= ... &lt; 4 yrs</td>\n",
       "      <td>39</td>\n",
       "      <td>2-3</td>\n",
       "      <td>3 or more</td>\n",
       "      <td>no</td>\n",
       "      <td>yes</td>\n",
       "      <td>good</td>\n",
       "    </tr>\n",
       "    <tr>\n",
       "      <th>4</th>\n",
       "      <td>no checking account</td>\n",
       "      <td>12</td>\n",
       "      <td>2171</td>\n",
       "      <td>unknown/no savings account</td>\n",
       "      <td>1 &lt;= ... &lt; 4 yrs</td>\n",
       "      <td>&lt; 20</td>\n",
       "      <td>&gt;= 7 yrs</td>\n",
       "      <td>38</td>\n",
       "      <td>2-3</td>\n",
       "      <td>0 to 2</td>\n",
       "      <td>no</td>\n",
       "      <td>yes</td>\n",
       "      <td>good</td>\n",
       "    </tr>\n",
       "  </tbody>\n",
       "</table>\n",
       "</div>"
      ],
      "text/plain": [
       "                status  duration  amount                     savings  \\\n",
       "0  no checking account        18    1049  unknown/no savings account   \n",
       "1  no checking account         9    2799  unknown/no savings account   \n",
       "2           ... < 0 DM        12     841               ... <  100 DM   \n",
       "3  no checking account        12    2122  unknown/no savings account   \n",
       "4  no checking account        12    2171  unknown/no savings account   \n",
       "\n",
       "  employment_duration installment_rate present_residence  age number_credits  \\\n",
       "0              < 1 yr             < 20          >= 7 yrs   21              1   \n",
       "1    1 <= ... < 4 yrs   25 <= ... < 35  1 <= ... < 4 yrs   36            2-3   \n",
       "2    4 <= ... < 7 yrs   25 <= ... < 35          >= 7 yrs   23              1   \n",
       "3    1 <= ... < 4 yrs   20 <= ... < 25  1 <= ... < 4 yrs   39            2-3   \n",
       "4    1 <= ... < 4 yrs             < 20          >= 7 yrs   38            2-3   \n",
       "\n",
       "  people_liable telephone foreign_worker credit_risk  \n",
       "0        0 to 2        no             no        good  \n",
       "1     3 or more        no             no        good  \n",
       "2        0 to 2        no             no        good  \n",
       "3     3 or more        no            yes        good  \n",
       "4        0 to 2        no            yes        good  "
      ]
     },
     "execution_count": 20,
     "metadata": {},
     "output_type": "execute_result"
    }
   ],
   "source": [
    "# чистим от категориальных:\n",
    "data.drop([\"credit_history\", \"purpose\", \"personal_status_sex\", \"other_debtors\", \n",
    "           \"property\", \"housing\", \"job\", \"other_installment_plans\"],\n",
    "          axis=1, inplace=True)\n",
    "data.head()"
   ]
  },
  {
   "cell_type": "code",
   "execution_count": 21,
   "metadata": {},
   "outputs": [
    {
     "name": "stdout",
     "output_type": "stream",
     "text": [
      "... >= 200 DM / salary for at least 1 year    394\n",
      "no checking account                           274\n",
      "... < 0 DM                                    269\n",
      "0<= ... < 200 DM                               63\n",
      "Name: status, dtype: int64 \n",
      "\n",
      "24    184\n",
      "12    179\n",
      "18    113\n",
      "36     83\n",
      "6      75\n",
      "15     64\n",
      "9      49\n",
      "48     48\n",
      "30     40\n",
      "21     30\n",
      "10     28\n",
      "27     13\n",
      "60     13\n",
      "42     11\n",
      "11      9\n",
      "20      8\n",
      "8       7\n",
      "4       6\n",
      "39      5\n",
      "45      5\n",
      "7       5\n",
      "14      4\n",
      "13      4\n",
      "33      3\n",
      "28      3\n",
      "22      2\n",
      "16      2\n",
      "54      2\n",
      "26      1\n",
      "40      1\n",
      "47      1\n",
      "5       1\n",
      "72      1\n",
      "Name: duration, dtype: int64 \n",
      "\n",
      "1262    3\n",
      "1258    3\n",
      "1478    3\n",
      "1275    3\n",
      "1393    3\n",
      "       ..\n",
      "1345    1\n",
      "1343    1\n",
      "7485    1\n",
      "3345    1\n",
      "2051    1\n",
      "Name: amount, Length: 923, dtype: int64 \n",
      "\n",
      "unknown/no savings account    603\n",
      "... >= 1000 DM                183\n",
      "... <  100 DM                 103\n",
      "100 <= ... <  500 DM           63\n",
      "500 <= ... < 1000 DM           48\n",
      "Name: savings, dtype: int64 \n",
      "\n",
      "1 <= ... < 4 yrs    339\n",
      ">= 7 yrs            253\n",
      "4 <= ... < 7 yrs    174\n",
      "< 1 yr              172\n",
      "unemployed           62\n",
      "Name: employment_duration, dtype: int64 \n",
      "\n",
      "< 20              476\n",
      "25 <= ... < 35    231\n",
      "20 <= ... < 25    157\n",
      ">= 35             136\n",
      "Name: installment_rate, dtype: int64 \n",
      "\n",
      ">= 7 yrs            413\n",
      "1 <= ... < 4 yrs    308\n",
      "4 <= ... < 7 yrs    149\n",
      "< 1 yr              130\n",
      "Name: present_residence, dtype: int64 \n",
      "\n",
      "27    50\n",
      "26    49\n",
      "23    48\n",
      "24    45\n",
      "28    43\n",
      "35    40\n",
      "25    40\n",
      "30    40\n",
      "36    40\n",
      "31    38\n",
      "29    37\n",
      "32    34\n",
      "34    33\n",
      "33    33\n",
      "37    29\n",
      "22    27\n",
      "40    27\n",
      "38    24\n",
      "42    22\n",
      "39    21\n",
      "46    18\n",
      "41    17\n",
      "43    17\n",
      "44    17\n",
      "47    17\n",
      "45    15\n",
      "21    14\n",
      "49    14\n",
      "20    14\n",
      "48    12\n",
      "54    10\n",
      "50    10\n",
      "52     9\n",
      "57     9\n",
      "55     8\n",
      "63     8\n",
      "51     8\n",
      "53     7\n",
      "61     7\n",
      "60     6\n",
      "58     5\n",
      "64     5\n",
      "65     5\n",
      "66     5\n",
      "74     4\n",
      "67     3\n",
      "68     3\n",
      "56     3\n",
      "59     3\n",
      "75     2\n",
      "62     2\n",
      "19     2\n",
      "70     1\n",
      "Name: age, dtype: int64 \n",
      "\n",
      "1       633\n",
      "2-3     333\n",
      "4-5      28\n",
      ">= 6      6\n",
      "Name: number_credits, dtype: int64 \n",
      "\n",
      "0 to 2       845\n",
      "3 or more    155\n",
      "Name: people_liable, dtype: int64 \n",
      "\n",
      "no                           596\n",
      "yes (under customer name)    404\n",
      "Name: telephone, dtype: int64 \n",
      "\n",
      "no     963\n",
      "yes     37\n",
      "Name: foreign_worker, dtype: int64 \n",
      "\n",
      "good    700\n",
      "bad     300\n",
      "Name: credit_risk, dtype: int64 \n",
      "\n"
     ]
    }
   ],
   "source": [
    "# ориентируемся во всех возможных значениях всех полей\n",
    "for i in data.columns:\n",
    "    print(data[i].value_counts(), '\\n')"
   ]
  },
  {
   "cell_type": "code",
   "execution_count": 22,
   "metadata": {},
   "outputs": [],
   "source": [
    "# заменяем первым способом: \n",
    "data['telephone'] = data['telephone'].apply(lambda x: 0 if x == 'no' else 1)\n",
    "data['foreign_worker'] = data['foreign_worker'].apply(lambda x: 0 if x == 'no' else 1)\n",
    "data['credit_risk'] = data['credit_risk'].apply(lambda x: 1 if x == 'good' else 0)"
   ]
  },
  {
   "cell_type": "code",
   "execution_count": 23,
   "metadata": {},
   "outputs": [],
   "source": [
    "# второй способ:\n",
    "data[\"people_liable\"] = (data[\"people_liable\"] == \"3 or more\").astype(int)\n",
    "\n",
    "# третий (кастомный)\n",
    "to_replace = {\n",
    "    \"status\": {\"no checking account\": 0, \"... < 0 DM\": 1,\n",
    "                               \"0<= ... < 200 DM\": 2,\n",
    "                               \"... >= 200 DM / salary for at least 1 year\": 3},\n",
    "    \"savings\": {\"unknown/no savings account\": 0, \"... <  100 DM\": 1,\n",
    "               \"100 <= ... <  500 DM\": 2, \"500 <= ... < 1000 DM\": 3,\n",
    "               \"... >= 1000 DM\": 4},\n",
    "    \"employment_duration\": {\"unemployed\": 0, \"< 1 yr\": 1, \"1 <= ... < 4 yrs\": 2,\n",
    "                           \"4 <= ... < 7 yrs\": 3, \">= 7 yrs\": 4},\n",
    "    \"installment_rate\": {\"< 20\": 0, \"20 <= ... < 25\": 1, \"25 <= ... < 35\": 2,\n",
    "                        \">= 35\": 3},\n",
    "    \"present_residence\": {\"< 1 yr\": 0, \"1 <= ... < 4 yrs\": 1,\n",
    "                         \"4 <= ... < 7 yrs\": 2, \">= 7 yrs\": 3},\n",
    "    \"number_credits\": {\"1\": 0, \"2-3\": 1, \"4-5\": 2, \">= 6\": 3}\n",
    "}\n",
    "\n",
    "data.replace(to_replace, inplace=True)"
   ]
  },
  {
   "cell_type": "code",
   "execution_count": 41,
   "metadata": {},
   "outputs": [
    {
     "data": {
      "text/html": [
       "<div>\n",
       "<style scoped>\n",
       "    .dataframe tbody tr th:only-of-type {\n",
       "        vertical-align: middle;\n",
       "    }\n",
       "\n",
       "    .dataframe tbody tr th {\n",
       "        vertical-align: top;\n",
       "    }\n",
       "\n",
       "    .dataframe thead th {\n",
       "        text-align: right;\n",
       "    }\n",
       "</style>\n",
       "<table border=\"1\" class=\"dataframe\">\n",
       "  <thead>\n",
       "    <tr style=\"text-align: right;\">\n",
       "      <th></th>\n",
       "      <th>status</th>\n",
       "      <th>duration</th>\n",
       "      <th>amount</th>\n",
       "      <th>savings</th>\n",
       "      <th>employment_duration</th>\n",
       "      <th>installment_rate</th>\n",
       "      <th>present_residence</th>\n",
       "      <th>age</th>\n",
       "      <th>number_credits</th>\n",
       "      <th>people_liable</th>\n",
       "      <th>telephone</th>\n",
       "      <th>foreign_worker</th>\n",
       "      <th>credit_risk</th>\n",
       "    </tr>\n",
       "  </thead>\n",
       "  <tbody>\n",
       "    <tr>\n",
       "      <th>0</th>\n",
       "      <td>0</td>\n",
       "      <td>18</td>\n",
       "      <td>1049</td>\n",
       "      <td>0</td>\n",
       "      <td>1</td>\n",
       "      <td>0</td>\n",
       "      <td>3</td>\n",
       "      <td>21</td>\n",
       "      <td>0</td>\n",
       "      <td>0</td>\n",
       "      <td>0</td>\n",
       "      <td>0</td>\n",
       "      <td>1</td>\n",
       "    </tr>\n",
       "    <tr>\n",
       "      <th>1</th>\n",
       "      <td>0</td>\n",
       "      <td>9</td>\n",
       "      <td>2799</td>\n",
       "      <td>0</td>\n",
       "      <td>2</td>\n",
       "      <td>2</td>\n",
       "      <td>1</td>\n",
       "      <td>36</td>\n",
       "      <td>1</td>\n",
       "      <td>1</td>\n",
       "      <td>0</td>\n",
       "      <td>0</td>\n",
       "      <td>1</td>\n",
       "    </tr>\n",
       "    <tr>\n",
       "      <th>2</th>\n",
       "      <td>1</td>\n",
       "      <td>12</td>\n",
       "      <td>841</td>\n",
       "      <td>1</td>\n",
       "      <td>3</td>\n",
       "      <td>2</td>\n",
       "      <td>3</td>\n",
       "      <td>23</td>\n",
       "      <td>0</td>\n",
       "      <td>0</td>\n",
       "      <td>0</td>\n",
       "      <td>0</td>\n",
       "      <td>1</td>\n",
       "    </tr>\n",
       "    <tr>\n",
       "      <th>3</th>\n",
       "      <td>0</td>\n",
       "      <td>12</td>\n",
       "      <td>2122</td>\n",
       "      <td>0</td>\n",
       "      <td>2</td>\n",
       "      <td>1</td>\n",
       "      <td>1</td>\n",
       "      <td>39</td>\n",
       "      <td>1</td>\n",
       "      <td>1</td>\n",
       "      <td>0</td>\n",
       "      <td>1</td>\n",
       "      <td>1</td>\n",
       "    </tr>\n",
       "    <tr>\n",
       "      <th>4</th>\n",
       "      <td>0</td>\n",
       "      <td>12</td>\n",
       "      <td>2171</td>\n",
       "      <td>0</td>\n",
       "      <td>2</td>\n",
       "      <td>0</td>\n",
       "      <td>3</td>\n",
       "      <td>38</td>\n",
       "      <td>1</td>\n",
       "      <td>0</td>\n",
       "      <td>0</td>\n",
       "      <td>1</td>\n",
       "      <td>1</td>\n",
       "    </tr>\n",
       "  </tbody>\n",
       "</table>\n",
       "</div>"
      ],
      "text/plain": [
       "   status  duration  amount  savings  employment_duration  installment_rate  \\\n",
       "0       0        18    1049        0                    1                 0   \n",
       "1       0         9    2799        0                    2                 2   \n",
       "2       1        12     841        1                    3                 2   \n",
       "3       0        12    2122        0                    2                 1   \n",
       "4       0        12    2171        0                    2                 0   \n",
       "\n",
       "   present_residence  age  number_credits  people_liable  telephone  \\\n",
       "0                  3   21               0              0          0   \n",
       "1                  1   36               1              1          0   \n",
       "2                  3   23               0              0          0   \n",
       "3                  1   39               1              1          0   \n",
       "4                  3   38               1              0          0   \n",
       "\n",
       "   foreign_worker  credit_risk  \n",
       "0               0            1  \n",
       "1               0            1  \n",
       "2               0            1  \n",
       "3               1            1  \n",
       "4               1            1  "
      ]
     },
     "execution_count": 41,
     "metadata": {},
     "output_type": "execute_result"
    }
   ],
   "source": [
    "data.head()  # success\n"
   ]
  },
  {
   "cell_type": "markdown",
   "metadata": {
    "id": "Iz7VTiFpu8lo"
   },
   "source": [
    "### Задание 14  (2 балла)"
   ]
  },
  {
   "cell_type": "markdown",
   "metadata": {
    "id": "Mv52wusiu8lo"
   },
   "source": [
    "По результатам предыдущего задания у вас должна получиться таблица, в которой все признаки так или иначе представлены числовыми значениями. Попробуйте придумать на основе проведённых исследований данных какую-нибудь формулу, связывающую целевую переменную с признаками, не используя готовых инструментов машинного обучения. По желанию вы можете исключить ещё какие-то признаки, или, наоборот, сформировать новые на основе имеющихся. Возможно, вы захотите отмасштабировать большие наборы численных значений некоторых признаков с помощью интервалов. Цель: реализовать функцию, которая будет принимать на вход набор признаков для объекта выборки и возвращать прогноз целевой переменной (0 или 1). Например, вы можете просто сложить все признаки и возращать ноль, если сумма отрицательная, а в противном случае единицу. Но наверняка можно придумать лучше!\n",
    "Данные уже разделены на набор для обучения, который вы можете использовать как угодно, и тестовый, на котором нужно будет проверить вашу точность. Постарайтесь достичь точности хотя бы 0.6."
   ]
  },
  {
   "cell_type": "code",
   "execution_count": 96,
   "metadata": {
    "id": "V8vjz88qu8lo"
   },
   "outputs": [
    {
     "ename": "ValueError",
     "evalue": "Found input variables with inconsistent numbers of samples: [250, 3000]",
     "output_type": "error",
     "traceback": [
      "\u001b[0;31m---------------------------------------------------------------------------\u001b[0m",
      "\u001b[0;31mValueError\u001b[0m                                Traceback (most recent call last)",
      "\u001b[0;32m<ipython-input-96-88dd56bd44fd>\u001b[0m in \u001b[0;36m<module>\u001b[0;34m\u001b[0m\n\u001b[1;32m     11\u001b[0m \u001b[0;31m# Используйте X_train и y_train на ваше усмотрение\u001b[0m\u001b[0;34m\u001b[0m\u001b[0;34m\u001b[0m\u001b[0;34m\u001b[0m\u001b[0m\n\u001b[1;32m     12\u001b[0m \u001b[0;31m# your code here\u001b[0m\u001b[0;34m\u001b[0m\u001b[0;34m\u001b[0m\u001b[0;34m\u001b[0m\u001b[0m\n\u001b[0;32m---> 13\u001b[0;31m \u001b[0maccuracy_score\u001b[0m\u001b[0;34m(\u001b[0m\u001b[0my_test\u001b[0m\u001b[0;34m,\u001b[0m \u001b[0mpredict\u001b[0m\u001b[0;34m(\u001b[0m\u001b[0mX_test\u001b[0m\u001b[0;34m)\u001b[0m\u001b[0;34m)\u001b[0m\u001b[0;34m\u001b[0m\u001b[0;34m\u001b[0m\u001b[0m\n\u001b[0m",
      "\u001b[0;32m~/anaconda3/lib/python3.8/site-packages/sklearn/utils/validation.py\u001b[0m in \u001b[0;36minner_f\u001b[0;34m(*args, **kwargs)\u001b[0m\n\u001b[1;32m     70\u001b[0m                           FutureWarning)\n\u001b[1;32m     71\u001b[0m         \u001b[0mkwargs\u001b[0m\u001b[0;34m.\u001b[0m\u001b[0mupdate\u001b[0m\u001b[0;34m(\u001b[0m\u001b[0;34m{\u001b[0m\u001b[0mk\u001b[0m\u001b[0;34m:\u001b[0m \u001b[0marg\u001b[0m \u001b[0;32mfor\u001b[0m \u001b[0mk\u001b[0m\u001b[0;34m,\u001b[0m \u001b[0marg\u001b[0m \u001b[0;32min\u001b[0m \u001b[0mzip\u001b[0m\u001b[0;34m(\u001b[0m\u001b[0msig\u001b[0m\u001b[0;34m.\u001b[0m\u001b[0mparameters\u001b[0m\u001b[0;34m,\u001b[0m \u001b[0margs\u001b[0m\u001b[0;34m)\u001b[0m\u001b[0;34m}\u001b[0m\u001b[0;34m)\u001b[0m\u001b[0;34m\u001b[0m\u001b[0;34m\u001b[0m\u001b[0m\n\u001b[0;32m---> 72\u001b[0;31m         \u001b[0;32mreturn\u001b[0m \u001b[0mf\u001b[0m\u001b[0;34m(\u001b[0m\u001b[0;34m**\u001b[0m\u001b[0mkwargs\u001b[0m\u001b[0;34m)\u001b[0m\u001b[0;34m\u001b[0m\u001b[0;34m\u001b[0m\u001b[0m\n\u001b[0m\u001b[1;32m     73\u001b[0m     \u001b[0;32mreturn\u001b[0m \u001b[0minner_f\u001b[0m\u001b[0;34m\u001b[0m\u001b[0;34m\u001b[0m\u001b[0m\n\u001b[1;32m     74\u001b[0m \u001b[0;34m\u001b[0m\u001b[0m\n",
      "\u001b[0;32m~/anaconda3/lib/python3.8/site-packages/sklearn/metrics/_classification.py\u001b[0m in \u001b[0;36maccuracy_score\u001b[0;34m(y_true, y_pred, normalize, sample_weight)\u001b[0m\n\u001b[1;32m    185\u001b[0m \u001b[0;34m\u001b[0m\u001b[0m\n\u001b[1;32m    186\u001b[0m     \u001b[0;31m# Compute accuracy for each possible representation\u001b[0m\u001b[0;34m\u001b[0m\u001b[0;34m\u001b[0m\u001b[0;34m\u001b[0m\u001b[0m\n\u001b[0;32m--> 187\u001b[0;31m     \u001b[0my_type\u001b[0m\u001b[0;34m,\u001b[0m \u001b[0my_true\u001b[0m\u001b[0;34m,\u001b[0m \u001b[0my_pred\u001b[0m \u001b[0;34m=\u001b[0m \u001b[0m_check_targets\u001b[0m\u001b[0;34m(\u001b[0m\u001b[0my_true\u001b[0m\u001b[0;34m,\u001b[0m \u001b[0my_pred\u001b[0m\u001b[0;34m)\u001b[0m\u001b[0;34m\u001b[0m\u001b[0;34m\u001b[0m\u001b[0m\n\u001b[0m\u001b[1;32m    188\u001b[0m     \u001b[0mcheck_consistent_length\u001b[0m\u001b[0;34m(\u001b[0m\u001b[0my_true\u001b[0m\u001b[0;34m,\u001b[0m \u001b[0my_pred\u001b[0m\u001b[0;34m,\u001b[0m \u001b[0msample_weight\u001b[0m\u001b[0;34m)\u001b[0m\u001b[0;34m\u001b[0m\u001b[0;34m\u001b[0m\u001b[0m\n\u001b[1;32m    189\u001b[0m     \u001b[0;32mif\u001b[0m \u001b[0my_type\u001b[0m\u001b[0;34m.\u001b[0m\u001b[0mstartswith\u001b[0m\u001b[0;34m(\u001b[0m\u001b[0;34m'multilabel'\u001b[0m\u001b[0;34m)\u001b[0m\u001b[0;34m:\u001b[0m\u001b[0;34m\u001b[0m\u001b[0;34m\u001b[0m\u001b[0m\n",
      "\u001b[0;32m~/anaconda3/lib/python3.8/site-packages/sklearn/metrics/_classification.py\u001b[0m in \u001b[0;36m_check_targets\u001b[0;34m(y_true, y_pred)\u001b[0m\n\u001b[1;32m     79\u001b[0m     \u001b[0my_pred\u001b[0m \u001b[0;34m:\u001b[0m \u001b[0marray\u001b[0m \u001b[0;32mor\u001b[0m \u001b[0mindicator\u001b[0m \u001b[0mmatrix\u001b[0m\u001b[0;34m\u001b[0m\u001b[0;34m\u001b[0m\u001b[0m\n\u001b[1;32m     80\u001b[0m     \"\"\"\n\u001b[0;32m---> 81\u001b[0;31m     \u001b[0mcheck_consistent_length\u001b[0m\u001b[0;34m(\u001b[0m\u001b[0my_true\u001b[0m\u001b[0;34m,\u001b[0m \u001b[0my_pred\u001b[0m\u001b[0;34m)\u001b[0m\u001b[0;34m\u001b[0m\u001b[0;34m\u001b[0m\u001b[0m\n\u001b[0m\u001b[1;32m     82\u001b[0m     \u001b[0mtype_true\u001b[0m \u001b[0;34m=\u001b[0m \u001b[0mtype_of_target\u001b[0m\u001b[0;34m(\u001b[0m\u001b[0my_true\u001b[0m\u001b[0;34m)\u001b[0m\u001b[0;34m\u001b[0m\u001b[0;34m\u001b[0m\u001b[0m\n\u001b[1;32m     83\u001b[0m     \u001b[0mtype_pred\u001b[0m \u001b[0;34m=\u001b[0m \u001b[0mtype_of_target\u001b[0m\u001b[0;34m(\u001b[0m\u001b[0my_pred\u001b[0m\u001b[0;34m)\u001b[0m\u001b[0;34m\u001b[0m\u001b[0;34m\u001b[0m\u001b[0m\n",
      "\u001b[0;32m~/anaconda3/lib/python3.8/site-packages/sklearn/utils/validation.py\u001b[0m in \u001b[0;36mcheck_consistent_length\u001b[0;34m(*arrays)\u001b[0m\n\u001b[1;32m    253\u001b[0m     \u001b[0muniques\u001b[0m \u001b[0;34m=\u001b[0m \u001b[0mnp\u001b[0m\u001b[0;34m.\u001b[0m\u001b[0munique\u001b[0m\u001b[0;34m(\u001b[0m\u001b[0mlengths\u001b[0m\u001b[0;34m)\u001b[0m\u001b[0;34m\u001b[0m\u001b[0;34m\u001b[0m\u001b[0m\n\u001b[1;32m    254\u001b[0m     \u001b[0;32mif\u001b[0m \u001b[0mlen\u001b[0m\u001b[0;34m(\u001b[0m\u001b[0muniques\u001b[0m\u001b[0;34m)\u001b[0m \u001b[0;34m>\u001b[0m \u001b[0;36m1\u001b[0m\u001b[0;34m:\u001b[0m\u001b[0;34m\u001b[0m\u001b[0;34m\u001b[0m\u001b[0m\n\u001b[0;32m--> 255\u001b[0;31m         raise ValueError(\"Found input variables with inconsistent numbers of\"\n\u001b[0m\u001b[1;32m    256\u001b[0m                          \" samples: %r\" % [int(l) for l in lengths])\n\u001b[1;32m    257\u001b[0m \u001b[0;34m\u001b[0m\u001b[0m\n",
      "\u001b[0;31mValueError\u001b[0m: Found input variables with inconsistent numbers of samples: [250, 3000]"
     ]
    }
   ],
   "source": [
    "import random\n",
    "def predict(Xtest: np.array) -> np.array:\n",
    "    # your code here\n",
    "    return (np.random.randint(0, 2, size=Xtest.size))\n",
    "\n",
    "from sklearn.model_selection import train_test_split\n",
    "from sklearn.metrics import accuracy_score\n",
    "X = data.drop('credit_risk', 1).values\n",
    "y = data['credit_risk'].values\n",
    "X_train, X_test, y_train, y_test = train_test_split(X, y, test_size=0.25, random_state=10)\n",
    "# Используйте X_train и y_train на ваше усмотрение\n",
    "# your code here\n",
    "accuracy_score(y_test, predict(X_test))"
   ]
  }
 ],
 "metadata": {
  "colab": {
   "name": "hw1.ipynb",
   "provenance": []
  },
  "kernelspec": {
   "display_name": "Python 3",
   "language": "python",
   "name": "python3"
  },
  "language_info": {
   "codemirror_mode": {
    "name": "ipython",
    "version": 3
   },
   "file_extension": ".py",
   "mimetype": "text/x-python",
   "name": "python",
   "nbconvert_exporter": "python",
   "pygments_lexer": "ipython3",
   "version": "3.8.5"
  }
 },
 "nbformat": 4,
 "nbformat_minor": 1
}
