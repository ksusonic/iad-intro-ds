{
 "cells": [
  {
   "cell_type": "markdown",
   "metadata": {},
   "source": [
    "# Avito Category Prediction\n",
    " You need to predict the category of avito publications"
   ]
  },
  {
   "cell_type": "code",
   "execution_count": 1,
   "metadata": {},
   "outputs": [],
   "source": [
    "import pandas as pd\n",
    "import pickle"
   ]
  },
  {
   "cell_type": "markdown",
   "metadata": {},
   "source": [
    "Предобработанные данные:"
   ]
  },
  {
   "cell_type": "code",
   "execution_count": 2,
   "metadata": {},
   "outputs": [],
   "source": [
    "with open('traintokenized', 'rb') as traintokenized:\n",
    "    train = pickle.load(traintokenized)\n",
    "    \n",
    "with open('testtokenized', 'rb') as testtokenized:\n",
    "    test = pickle.load(testtokenized)"
   ]
  },
  {
   "cell_type": "code",
   "execution_count": 3,
   "metadata": {
    "scrolled": true
   },
   "outputs": [
    {
     "data": {
      "text/html": [
       "<div>\n",
       "<style scoped>\n",
       "    .dataframe tbody tr th:only-of-type {\n",
       "        vertical-align: middle;\n",
       "    }\n",
       "\n",
       "    .dataframe tbody tr th {\n",
       "        vertical-align: top;\n",
       "    }\n",
       "\n",
       "    .dataframe thead th {\n",
       "        text-align: right;\n",
       "    }\n",
       "</style>\n",
       "<table border=\"1\" class=\"dataframe\">\n",
       "  <thead>\n",
       "    <tr style=\"text-align: right;\">\n",
       "      <th></th>\n",
       "      <th>Category_name</th>\n",
       "      <th>Category</th>\n",
       "      <th>desctitletokens</th>\n",
       "    </tr>\n",
       "  </thead>\n",
       "  <tbody>\n",
       "    <tr>\n",
       "      <th>0</th>\n",
       "      <td>Запчасти и аксессуары</td>\n",
       "      <td>10</td>\n",
       "      <td>эбу renault nissan dci delphi год комплект эбу...</td>\n",
       "    </tr>\n",
       "    <tr>\n",
       "      <th>1</th>\n",
       "      <td>Бытовая техника</td>\n",
       "      <td>21</td>\n",
       "      <td>утюг утп ватт ссср год продавать фото утюг утп...</td>\n",
       "    </tr>\n",
       "    <tr>\n",
       "      <th>2</th>\n",
       "      <td>Предложение услуг</td>\n",
       "      <td>114</td>\n",
       "      <td>возвма машина выкуп взять машина аренда послед...</td>\n",
       "    </tr>\n",
       "    <tr>\n",
       "      <th>3</th>\n",
       "      <td>Одежда, обувь, аксессуары</td>\n",
       "      <td>27</td>\n",
       "      <td>полусапожки полусапожки отличный состояние оде...</td>\n",
       "    </tr>\n",
       "    <tr>\n",
       "      <th>4</th>\n",
       "      <td>Одежда, обувь, аксессуары</td>\n",
       "      <td>27</td>\n",
       "      <td>босоножка кожаный кожаный натура босоножка kar...</td>\n",
       "    </tr>\n",
       "  </tbody>\n",
       "</table>\n",
       "</div>"
      ],
      "text/plain": [
       "               Category_name  Category  \\\n",
       "0      Запчасти и аксессуары        10   \n",
       "1            Бытовая техника        21   \n",
       "2          Предложение услуг       114   \n",
       "3  Одежда, обувь, аксессуары        27   \n",
       "4  Одежда, обувь, аксессуары        27   \n",
       "\n",
       "                                     desctitletokens  \n",
       "0  эбу renault nissan dci delphi год комплект эбу...  \n",
       "1  утюг утп ватт ссср год продавать фото утюг утп...  \n",
       "2  возвма машина выкуп взять машина аренда послед...  \n",
       "3  полусапожки полусапожки отличный состояние оде...  \n",
       "4  босоножка кожаный кожаный натура босоножка kar...  "
      ]
     },
     "execution_count": 3,
     "metadata": {},
     "output_type": "execute_result"
    }
   ],
   "source": [
    "train.head()"
   ]
  },
  {
   "cell_type": "code",
   "execution_count": 4,
   "metadata": {
    "scrolled": true
   },
   "outputs": [
    {
     "data": {
      "text/html": [
       "<div>\n",
       "<style scoped>\n",
       "    .dataframe tbody tr th:only-of-type {\n",
       "        vertical-align: middle;\n",
       "    }\n",
       "\n",
       "    .dataframe tbody tr th {\n",
       "        vertical-align: top;\n",
       "    }\n",
       "\n",
       "    .dataframe thead th {\n",
       "        text-align: right;\n",
       "    }\n",
       "</style>\n",
       "<table border=\"1\" class=\"dataframe\">\n",
       "  <thead>\n",
       "    <tr style=\"text-align: right;\">\n",
       "      <th></th>\n",
       "      <th>itemid</th>\n",
       "      <th>desctitletokens</th>\n",
       "    </tr>\n",
       "  </thead>\n",
       "  <tbody>\n",
       "    <tr>\n",
       "      <th>0</th>\n",
       "      <td>1778449823</td>\n",
       "      <td>мастерок мастерок фирма форвард белый цвет иде...</td>\n",
       "    </tr>\n",
       "    <tr>\n",
       "      <th>1</th>\n",
       "      <td>1677656962</td>\n",
       "      <td>зимний сапог продавать зимний сапог хороший со...</td>\n",
       "    </tr>\n",
       "    <tr>\n",
       "      <th>2</th>\n",
       "      <td>1758182804</td>\n",
       "      <td>видеонаблюдение камера комплект atis amd входи...</td>\n",
       "    </tr>\n",
       "    <tr>\n",
       "      <th>3</th>\n",
       "      <td>1689811299</td>\n",
       "      <td>запчасть gle запчасть gle</td>\n",
       "    </tr>\n",
       "    <tr>\n",
       "      <th>4</th>\n",
       "      <td>1804706240</td>\n",
       "      <td>бластер nerf состояние продавать нужный диск п...</td>\n",
       "    </tr>\n",
       "  </tbody>\n",
       "</table>\n",
       "</div>"
      ],
      "text/plain": [
       "       itemid                                    desctitletokens\n",
       "0  1778449823  мастерок мастерок фирма форвард белый цвет иде...\n",
       "1  1677656962  зимний сапог продавать зимний сапог хороший со...\n",
       "2  1758182804  видеонаблюдение камера комплект atis amd входи...\n",
       "3  1689811299                          запчасть gle запчасть gle\n",
       "4  1804706240  бластер nerf состояние продавать нужный диск п..."
      ]
     },
     "execution_count": 4,
     "metadata": {},
     "output_type": "execute_result"
    }
   ],
   "source": [
    "test.head()"
   ]
  },
  {
   "cell_type": "markdown",
   "metadata": {},
   "source": [
    "#### Данные готовы, и можно использовать обучение без токенизации."
   ]
  },
  {
   "cell_type": "code",
   "execution_count": 5,
   "metadata": {},
   "outputs": [],
   "source": [
    "random_data = train.sample(500000)\n",
    "del train"
   ]
  },
  {
   "cell_type": "code",
   "execution_count": 6,
   "metadata": {},
   "outputs": [
    {
     "data": {
      "text/html": [
       "<div>\n",
       "<style scoped>\n",
       "    .dataframe tbody tr th:only-of-type {\n",
       "        vertical-align: middle;\n",
       "    }\n",
       "\n",
       "    .dataframe tbody tr th {\n",
       "        vertical-align: top;\n",
       "    }\n",
       "\n",
       "    .dataframe thead th {\n",
       "        text-align: right;\n",
       "    }\n",
       "</style>\n",
       "<table border=\"1\" class=\"dataframe\">\n",
       "  <thead>\n",
       "    <tr style=\"text-align: right;\">\n",
       "      <th></th>\n",
       "      <th>Category_name</th>\n",
       "      <th>Category</th>\n",
       "      <th>desctitletokens</th>\n",
       "    </tr>\n",
       "  </thead>\n",
       "  <tbody>\n",
       "    <tr>\n",
       "      <th>336181</th>\n",
       "      <td>Книги и журналы</td>\n",
       "      <td>83</td>\n",
       "      <td>универсальный справочник обществознание егэ ку...</td>\n",
       "    </tr>\n",
       "    <tr>\n",
       "      <th>4059360</th>\n",
       "      <td>Товары для детей и игрушки</td>\n",
       "      <td>30</td>\n",
       "      <td>накладка сосок грудь avent новый распеч новый ...</td>\n",
       "    </tr>\n",
       "    <tr>\n",
       "      <th>4161435</th>\n",
       "      <td>Охота и рыбалка</td>\n",
       "      <td>102</td>\n",
       "      <td>разборный мангал любой рисунок мангал разборны...</td>\n",
       "    </tr>\n",
       "    <tr>\n",
       "      <th>2569637</th>\n",
       "      <td>Детская одежда и обувь</td>\n",
       "      <td>29</td>\n",
       "      <td>теплый лосина штаны год отдавать пакет теплый ...</td>\n",
       "    </tr>\n",
       "    <tr>\n",
       "      <th>498920</th>\n",
       "      <td>Коллекционирование</td>\n",
       "      <td>36</td>\n",
       "      <td>thomas anders pures leben thomas anders pures ...</td>\n",
       "    </tr>\n",
       "  </tbody>\n",
       "</table>\n",
       "</div>"
      ],
      "text/plain": [
       "                      Category_name  Category  \\\n",
       "336181              Книги и журналы        83   \n",
       "4059360  Товары для детей и игрушки        30   \n",
       "4161435             Охота и рыбалка       102   \n",
       "2569637      Детская одежда и обувь        29   \n",
       "498920           Коллекционирование        36   \n",
       "\n",
       "                                           desctitletokens  \n",
       "336181   универсальный справочник обществознание егэ ку...  \n",
       "4059360  накладка сосок грудь avent новый распеч новый ...  \n",
       "4161435  разборный мангал любой рисунок мангал разборны...  \n",
       "2569637  теплый лосина штаны год отдавать пакет теплый ...  \n",
       "498920   thomas anders pures leben thomas anders pures ...  "
      ]
     },
     "execution_count": 6,
     "metadata": {},
     "output_type": "execute_result"
    }
   ],
   "source": [
    "random_data.head()"
   ]
  },
  {
   "cell_type": "code",
   "execution_count": 7,
   "metadata": {},
   "outputs": [],
   "source": [
    "from sklearn.model_selection import train_test_split\n",
    "\n",
    "X_train, X_test, y_train, y_test = train_test_split(random_data['desctitletokens'], random_data['Category'], test_size=0.3, random_state=2021)"
   ]
  },
  {
   "cell_type": "code",
   "execution_count": 8,
   "metadata": {},
   "outputs": [],
   "source": [
    "def tokenizer(s: str) -> list:\n",
    "    return s.split()"
   ]
  },
  {
   "cell_type": "code",
   "execution_count": null,
   "metadata": {},
   "outputs": [],
   "source": [
    "%%time\n",
    "from sklearn.feature_extraction.text import CountVectorizer\n",
    "from sklearn.pipeline import Pipeline\n",
    "from sklearn.linear_model import SGDClassifier\n",
    "from sklearn.metrics import classification_report,accuracy_score\n",
    "\n",
    "sgd = Pipeline([\n",
    "    ('vect', CountVectorizer(tokenizer=tokenizer)),\n",
    "    ('clf', SGDClassifier(random_state=2021, n_jobs=8)),\n",
    "    ])\n",
    "\n",
    "sgd.fit(X_train, y_train)\n",
    "\n",
    "y_train_pred = sgd.predict(X_train)\n",
    "\n",
    "\n",
    "# classification_report(y_test, sgd_y_pred)\n",
    "accuracy_score(y_train, y_train_pred)"
   ]
  },
  {
   "cell_type": "code",
   "execution_count": null,
   "metadata": {},
   "outputs": [],
   "source": [
    "accuracy_score(train['Category'], sgd.predict(train['text']))\n"
   ]
  },
  {
   "cell_type": "code",
   "execution_count": null,
   "metadata": {},
   "outputs": [],
   "source": [
    "output = pd.DataFrame({\n",
    "    'Id': test.itemid, \n",
    "    'Category': sgd.predict(test['text'])\n",
    "})\n",
    "output.to_csv(\"submission.csv\", index=False)\n",
    "output.head()"
   ]
  },
  {
   "cell_type": "code",
   "execution_count": 9,
   "metadata": {
    "scrolled": true
   },
   "outputs": [
    {
     "name": "stderr",
     "output_type": "stream",
     "text": [
      "/home/ksusonic/anaconda3/lib/python3.8/site-packages/sklearn/svm/_base.py:985: ConvergenceWarning: Liblinear failed to converge, increase the number of iterations.\n",
      "  warnings.warn(\"Liblinear failed to converge, increase \"\n"
     ]
    },
    {
     "name": "stdout",
     "output_type": "stream",
     "text": [
      "CPU times: user 7min 59s, sys: 765 ms, total: 8min\n",
      "Wall time: 8min 1s\n"
     ]
    },
    {
     "data": {
      "text/plain": [
       "0.8646133333333333"
      ]
     },
     "execution_count": 9,
     "metadata": {},
     "output_type": "execute_result"
    }
   ],
   "source": [
    "%%time\n",
    "\n",
    "from sklearn.feature_extraction.text import CountVectorizer\n",
    "from sklearn.pipeline import Pipeline\n",
    "from sklearn.model_selection import GridSearchCV\n",
    "from sklearn.svm import LinearSVC\n",
    "from sklearn.metrics import classification_report,accuracy_score\n",
    "\n",
    "\n",
    "pipe = Pipeline([\n",
    "    ('vect', CountVectorizer(tokenizer=tokenizer)),\n",
    "    ('clf', LinearSVC())\n",
    "    ])\n",
    "\n",
    "pipe.fit(X_train, y_train)\n",
    "pipe_y_pred = pipe.predict(X_test)\n",
    "\n",
    "\n",
    "# classification_report(y_test, sgd_y_pred)\n",
    "accuracy_score(y_test, pipe_y_pred)"
   ]
  },
  {
   "cell_type": "code",
   "execution_count": null,
   "metadata": {
    "scrolled": true
   },
   "outputs": [],
   "source": [
    "output = pd.DataFrame({\n",
    "    'Id': test.itemid, \n",
    "    'Category': pipe.predict(test['text'])\n",
    "})\n",
    "output.to_csv(\"submission.csv\", index=False)\n",
    "output.head()"
   ]
  }
 ],
 "metadata": {
  "environment": {
   "name": "common-cpu.m65",
   "type": "gcloud",
   "uri": "gcr.io/deeplearning-platform-release/base-cpu:m65"
  },
  "kernelspec": {
   "display_name": "Python 3",
   "language": "python",
   "name": "python3"
  },
  "language_info": {
   "codemirror_mode": {
    "name": "ipython",
    "version": 3
   },
   "file_extension": ".py",
   "mimetype": "text/x-python",
   "name": "python",
   "nbconvert_exporter": "python",
   "pygments_lexer": "ipython3",
   "version": "3.8.5"
  }
 },
 "nbformat": 4,
 "nbformat_minor": 4
}
