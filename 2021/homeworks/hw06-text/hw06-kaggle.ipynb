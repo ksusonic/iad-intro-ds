{
 "cells": [
  {
   "cell_type": "markdown",
   "metadata": {},
   "source": [
    "# Домашнее задание 6: классификация текстов"
   ]
  },
  {
   "cell_type": "markdown",
   "metadata": {},
   "source": [
    "Мы будем работать с датасетом объявлений Avito. Нам предстоит по заголовку и тексту объявления предсказывать категорию объявления."
   ]
  },
  {
   "cell_type": "code",
   "execution_count": 1,
   "metadata": {},
   "outputs": [],
   "source": [
    "import pandas as pd"
   ]
  },
  {
   "cell_type": "code",
   "execution_count": 2,
   "metadata": {},
   "outputs": [],
   "source": [
    "train = pd.read_csv('avito-text-classification/train.csv')\n",
    "test = pd.read_csv('avito-text-classification/test.csv')"
   ]
  },
  {
   "cell_type": "code",
   "execution_count": 4,
   "metadata": {},
   "outputs": [
    {
     "data": {
      "text/html": [
       "<div>\n",
       "<style scoped>\n",
       "    .dataframe tbody tr th:only-of-type {\n",
       "        vertical-align: middle;\n",
       "    }\n",
       "\n",
       "    .dataframe tbody tr th {\n",
       "        vertical-align: top;\n",
       "    }\n",
       "\n",
       "    .dataframe thead th {\n",
       "        text-align: right;\n",
       "    }\n",
       "</style>\n",
       "<table border=\"1\" class=\"dataframe\">\n",
       "  <thead>\n",
       "    <tr style=\"text-align: right;\">\n",
       "      <th></th>\n",
       "      <th>title</th>\n",
       "      <th>description</th>\n",
       "      <th>Category_name</th>\n",
       "      <th>Category</th>\n",
       "    </tr>\n",
       "  </thead>\n",
       "  <tbody>\n",
       "    <tr>\n",
       "      <th>0</th>\n",
       "      <td>Эбу Renault / Nissan 1,5 DCI Delphi 2001-2008 год</td>\n",
       "      <td>Комплект ЭБУ (мозги, компьютер мотора, двигате...</td>\n",
       "      <td>Запчасти и аксессуары</td>\n",
       "      <td>10</td>\n",
       "    </tr>\n",
       "    <tr>\n",
       "      <th>1</th>\n",
       "      <td>Утюг утп 1000 ватт СССР 1987 год</td>\n",
       "      <td>Продам/\\n Фото № 1-2 /\\n /\\nУтюг УТП 1000 ватт...</td>\n",
       "      <td>Бытовая техника</td>\n",
       "      <td>21</td>\n",
       "    </tr>\n",
       "    <tr>\n",
       "      <th>2</th>\n",
       "      <td>Возвму машину с выкупом</td>\n",
       "      <td>Возьму машину в аренду с последующим выкупом н...</td>\n",
       "      <td>Предложение услуг</td>\n",
       "      <td>114</td>\n",
       "    </tr>\n",
       "    <tr>\n",
       "      <th>3</th>\n",
       "      <td>Полусапожки</td>\n",
       "      <td>полусапожки в отличном состоянии, один раз оде...</td>\n",
       "      <td>Одежда, обувь, аксессуары</td>\n",
       "      <td>27</td>\n",
       "    </tr>\n",
       "    <tr>\n",
       "      <th>4</th>\n",
       "      <td>Босоножки кожаные</td>\n",
       "      <td>Кожаные(натур) босоножки Karlo Pasolini, 40 рр...</td>\n",
       "      <td>Одежда, обувь, аксессуары</td>\n",
       "      <td>27</td>\n",
       "    </tr>\n",
       "  </tbody>\n",
       "</table>\n",
       "</div>"
      ],
      "text/plain": [
       "                                               title  \\\n",
       "0  Эбу Renault / Nissan 1,5 DCI Delphi 2001-2008 год   \n",
       "1                   Утюг утп 1000 ватт СССР 1987 год   \n",
       "2                            Возвму машину с выкупом   \n",
       "3                                        Полусапожки   \n",
       "4                                  Босоножки кожаные   \n",
       "\n",
       "                                         description  \\\n",
       "0  Комплект ЭБУ (мозги, компьютер мотора, двигате...   \n",
       "1  Продам/\\n Фото № 1-2 /\\n /\\nУтюг УТП 1000 ватт...   \n",
       "2  Возьму машину в аренду с последующим выкупом н...   \n",
       "3  полусапожки в отличном состоянии, один раз оде...   \n",
       "4  Кожаные(натур) босоножки Karlo Pasolini, 40 рр...   \n",
       "\n",
       "               Category_name  Category  \n",
       "0      Запчасти и аксессуары        10  \n",
       "1            Бытовая техника        21  \n",
       "2          Предложение услуг       114  \n",
       "3  Одежда, обувь, аксессуары        27  \n",
       "4  Одежда, обувь, аксессуары        27  "
      ]
     },
     "execution_count": 4,
     "metadata": {},
     "output_type": "execute_result"
    }
   ],
   "source": [
    "train.head()"
   ]
  },
  {
   "cell_type": "code",
   "execution_count": 3,
   "metadata": {},
   "outputs": [],
   "source": [
    "train.fillna('', inplace=True)\n",
    "test.fillna('', inplace=True)"
   ]
  },
  {
   "cell_type": "code",
   "execution_count": 5,
   "metadata": {
    "scrolled": true
   },
   "outputs": [],
   "source": [
    "train['text'] = train['title'] + ' ' + train['description']\n",
    "train.drop(['title', 'description'], axis=1, inplace=True)"
   ]
  },
  {
   "cell_type": "code",
   "execution_count": 6,
   "metadata": {},
   "outputs": [],
   "source": [
    "test['text'] = test['title'] + ' ' + test['description']\n",
    "test.drop(['title', 'description'], axis=1, inplace=True)"
   ]
  },
  {
   "cell_type": "code",
   "execution_count": 7,
   "metadata": {},
   "outputs": [],
   "source": [
    "from nltk.tokenize import word_tokenize\n",
    "from nltk.corpus import stopwords\n",
    "from nltk.stem.snowball import SnowballStemmer\n",
    "from string import punctuation, digits\n",
    "\n",
    "def tokenizer(s: str) -> list:\n",
    "    \"\"\"\n",
    "    My custom tokenizer using sets\n",
    "    \"\"\"\n",
    "    \n",
    "    stemmer = SnowballStemmer('russian')\n",
    "    compare = set(punctuation) | set(digits) | set(stopwords.words('russian'))\n",
    "    result = [stemmer.stem(x) for x in word_tokenize(s.lower()) if len(x) > 2 and len({x} & compare) == 0]\n",
    "  \n",
    "    return result\n",
    "    "
   ]
  },
  {
   "cell_type": "code",
   "execution_count": 9,
   "metadata": {},
   "outputs": [],
   "source": [
    "# 1\n",
    "random_data = train.sample(100000)"
   ]
  },
  {
   "cell_type": "code",
   "execution_count": 10,
   "metadata": {},
   "outputs": [
    {
     "data": {
      "text/html": [
       "<div>\n",
       "<style scoped>\n",
       "    .dataframe tbody tr th:only-of-type {\n",
       "        vertical-align: middle;\n",
       "    }\n",
       "\n",
       "    .dataframe tbody tr th {\n",
       "        vertical-align: top;\n",
       "    }\n",
       "\n",
       "    .dataframe thead th {\n",
       "        text-align: right;\n",
       "    }\n",
       "</style>\n",
       "<table border=\"1\" class=\"dataframe\">\n",
       "  <thead>\n",
       "    <tr style=\"text-align: right;\">\n",
       "      <th></th>\n",
       "      <th>Category_name</th>\n",
       "      <th>Category</th>\n",
       "      <th>text</th>\n",
       "    </tr>\n",
       "  </thead>\n",
       "  <tbody>\n",
       "    <tr>\n",
       "      <th>4142640</th>\n",
       "      <td>Посуда и товары для кухни</td>\n",
       "      <td>87</td>\n",
       "      <td>Чайный сервиз з-д «Пролетарий» Чайный сервиз, ...</td>\n",
       "    </tr>\n",
       "    <tr>\n",
       "      <th>323844</th>\n",
       "      <td>Детская одежда и обувь</td>\n",
       "      <td>29</td>\n",
       "      <td>Костюм Крокид зима 104-110 Продам костюм Кроки...</td>\n",
       "    </tr>\n",
       "    <tr>\n",
       "      <th>1064444</th>\n",
       "      <td>Детская одежда и обувь</td>\n",
       "      <td>29</td>\n",
       "      <td>Ботинки Ботинки в отличном состоянии, натур.кожа</td>\n",
       "    </tr>\n",
       "    <tr>\n",
       "      <th>4146547</th>\n",
       "      <td>Детская одежда и обувь</td>\n",
       "      <td>29</td>\n",
       "      <td>Пижамы в комплекте-2шт Описание прилагается к ...</td>\n",
       "    </tr>\n",
       "    <tr>\n",
       "      <th>736215</th>\n",
       "      <td>Предложение услуг</td>\n",
       "      <td>114</td>\n",
       "      <td>Грумер (стрижка собак и кошек) Здравствуйте, /...</td>\n",
       "    </tr>\n",
       "    <tr>\n",
       "      <th>...</th>\n",
       "      <td>...</td>\n",
       "      <td>...</td>\n",
       "      <td>...</td>\n",
       "    </tr>\n",
       "    <tr>\n",
       "      <th>3163615</th>\n",
       "      <td>Запчасти и аксессуары</td>\n",
       "      <td>10</td>\n",
       "      <td>Mazda 6 mps подкрылок правый оригинал Без дефе...</td>\n",
       "    </tr>\n",
       "    <tr>\n",
       "      <th>3252818</th>\n",
       "      <td>Спорт и отдых</td>\n",
       "      <td>39</td>\n",
       "      <td>Связки и суставы NOW Hyaluronic Acid with MSM ...</td>\n",
       "    </tr>\n",
       "    <tr>\n",
       "      <th>902410</th>\n",
       "      <td>Одежда, обувь, аксессуары</td>\n",
       "      <td>27</td>\n",
       "      <td>Платье Платье с накидкой. Вечернее, облегающее.</td>\n",
       "    </tr>\n",
       "    <tr>\n",
       "      <th>1003642</th>\n",
       "      <td>Автомобили</td>\n",
       "      <td>9</td>\n",
       "      <td>Mazda CX-7, 2011 Отличное внешнее и техническо...</td>\n",
       "    </tr>\n",
       "    <tr>\n",
       "      <th>1484146</th>\n",
       "      <td>Детская одежда и обувь</td>\n",
       "      <td>29</td>\n",
       "      <td>Кроссовки Продам кроссовки полностью из натура...</td>\n",
       "    </tr>\n",
       "  </tbody>\n",
       "</table>\n",
       "<p>100000 rows × 3 columns</p>\n",
       "</div>"
      ],
      "text/plain": [
       "                     Category_name  Category  \\\n",
       "4142640  Посуда и товары для кухни        87   \n",
       "323844      Детская одежда и обувь        29   \n",
       "1064444     Детская одежда и обувь        29   \n",
       "4146547     Детская одежда и обувь        29   \n",
       "736215           Предложение услуг       114   \n",
       "...                            ...       ...   \n",
       "3163615      Запчасти и аксессуары        10   \n",
       "3252818              Спорт и отдых        39   \n",
       "902410   Одежда, обувь, аксессуары        27   \n",
       "1003642                 Автомобили         9   \n",
       "1484146     Детская одежда и обувь        29   \n",
       "\n",
       "                                                      text  \n",
       "4142640  Чайный сервиз з-д «Пролетарий» Чайный сервиз, ...  \n",
       "323844   Костюм Крокид зима 104-110 Продам костюм Кроки...  \n",
       "1064444   Ботинки Ботинки в отличном состоянии, натур.кожа  \n",
       "4146547  Пижамы в комплекте-2шт Описание прилагается к ...  \n",
       "736215   Грумер (стрижка собак и кошек) Здравствуйте, /...  \n",
       "...                                                    ...  \n",
       "3163615  Mazda 6 mps подкрылок правый оригинал Без дефе...  \n",
       "3252818  Связки и суставы NOW Hyaluronic Acid with MSM ...  \n",
       "902410     Платье Платье с накидкой. Вечернее, облегающее.  \n",
       "1003642  Mazda CX-7, 2011 Отличное внешнее и техническо...  \n",
       "1484146  Кроссовки Продам кроссовки полностью из натура...  \n",
       "\n",
       "[100000 rows x 3 columns]"
      ]
     },
     "execution_count": 10,
     "metadata": {},
     "output_type": "execute_result"
    }
   ],
   "source": [
    "random_data"
   ]
  },
  {
   "cell_type": "code",
   "execution_count": 11,
   "metadata": {},
   "outputs": [],
   "source": [
    "# 2\n",
    "from sklearn.model_selection import train_test_split\n",
    "\n",
    "X_train, X_test, y_train, y_test = train_test_split(random_data['text'], random_data['Category'], test_size=0.2, random_state=2021)"
   ]
  },
  {
   "cell_type": "code",
   "execution_count": 12,
   "metadata": {},
   "outputs": [
    {
     "name": "stdout",
     "output_type": "stream",
     "text": [
      "CPU times: user 3min 23s, sys: 6.77 s, total: 3min 30s\n",
      "Wall time: 2min 55s\n"
     ]
    },
    {
     "data": {
      "text/plain": [
       "0.78865"
      ]
     },
     "execution_count": 12,
     "metadata": {},
     "output_type": "execute_result"
    }
   ],
   "source": [
    "%%time\n",
    "\n",
    "# 3, 4\n",
    "\n",
    "from sklearn.feature_extraction.text import CountVectorizer\n",
    "from sklearn.pipeline import Pipeline\n",
    "from sklearn.linear_model import SGDClassifier\n",
    "from sklearn.metrics import classification_report,accuracy_score\n",
    "\n",
    "sgd = Pipeline([\n",
    "    ('vect', CountVectorizer(tokenizer=tokenizer)),\n",
    "    ('clf', SGDClassifier(loss='modified_huber', random_state=2021, n_jobs=8)),\n",
    "    ])\n",
    "\n",
    "sgd.fit(X_train, y_train)\n",
    "\n",
    "sgd_y_pred = sgd.predict(X_test)\n",
    "\n",
    "\n",
    "# classification_report(y_test, sgd_y_pred)\n",
    "accuracy_score(y_test, sgd_y_pred)"
   ]
  },
  {
   "cell_type": "code",
   "execution_count": 15,
   "metadata": {
    "collapsed": true,
    "jupyter": {
     "outputs_hidden": true
    }
   },
   "outputs": [
    {
     "name": "stdout",
     "output_type": "stream",
     "text": [
      "test: 0.78865\n",
      "              precision    recall  f1-score   support\n",
      "\n",
      "           9       0.93      0.82      0.87       608\n",
      "          10       0.87      0.95      0.91      3564\n",
      "          11       0.86      0.55      0.67        22\n",
      "          14       0.80      0.40      0.53        40\n",
      "          19       0.76      0.58      0.66       614\n",
      "          20       0.79      0.72      0.75       773\n",
      "          21       0.78      0.62      0.69       341\n",
      "          23       0.86      0.83      0.85        53\n",
      "          24       0.99      0.97      0.98       695\n",
      "          25       1.00      0.96      0.98       228\n",
      "          26       0.97      0.98      0.97       113\n",
      "          27       0.68      0.90      0.77      3573\n",
      "          28       0.89      0.76      0.82       317\n",
      "          29       0.73      0.86      0.79      2680\n",
      "          30       0.79      0.72      0.75      1004\n",
      "          31       0.89      0.65      0.75        62\n",
      "          32       0.84      0.61      0.71       371\n",
      "          33       0.50      0.73      0.59        11\n",
      "          34       0.85      0.64      0.73        96\n",
      "          36       0.63      0.50      0.56       476\n",
      "          38       0.97      0.42      0.59        76\n",
      "          39       0.78      0.52      0.63       397\n",
      "          40       0.81      0.35      0.49       154\n",
      "          42       0.93      0.85      0.89        93\n",
      "          81       0.90      0.35      0.51        79\n",
      "          82       0.66      0.52      0.58        67\n",
      "          83       0.89      0.66      0.76       282\n",
      "          84       0.91      0.74      0.81       530\n",
      "          85       0.96      0.85      0.90        61\n",
      "          86       0.00      0.00      0.00         2\n",
      "          87       0.67      0.48      0.56       204\n",
      "          88       0.81      0.55      0.65       352\n",
      "          89       0.86      0.81      0.84        63\n",
      "          90       0.88      0.85      0.86        67\n",
      "          91       0.67      0.47      0.55        17\n",
      "          92       0.79      0.60      0.68        25\n",
      "          93       0.82      0.57      0.67        54\n",
      "          94       0.77      0.42      0.54        55\n",
      "          96       0.84      0.52      0.64        60\n",
      "          97       0.89      0.70      0.78       125\n",
      "          98       0.85      0.69      0.76        80\n",
      "          99       0.82      0.56      0.66        97\n",
      "         101       0.78      0.50      0.61       316\n",
      "         102       0.43      0.16      0.23        58\n",
      "         105       0.90      0.68      0.77       114\n",
      "         106       0.83      0.51      0.63       106\n",
      "         111       0.98      0.80      0.88       150\n",
      "         112       0.75      0.57      0.65        63\n",
      "         114       0.84      0.66      0.74       582\n",
      "         116       1.00      0.33      0.50        30\n",
      "\n",
      "    accuracy                           0.79     20000\n",
      "   macro avg       0.81      0.63      0.69     20000\n",
      "weighted avg       0.80      0.79      0.78     20000\n",
      "\n"
     ]
    }
   ],
   "source": [
    "print(\"test:\", accuracy_score(y_test, sgd_y_pred))\n",
    "\n",
    "print(classification_report(y_test, sgd_y_pred))"
   ]
  }
 ],
 "metadata": {
  "environment": {
   "name": "common-cpu.m65",
   "type": "gcloud",
   "uri": "gcr.io/deeplearning-platform-release/base-cpu:m65"
  },
  "kernelspec": {
   "display_name": "Python 3",
   "language": "python",
   "name": "python3"
  },
  "language_info": {
   "codemirror_mode": {
    "name": "ipython",
    "version": 3
   },
   "file_extension": ".py",
   "mimetype": "text/x-python",
   "name": "python",
   "nbconvert_exporter": "python",
   "pygments_lexer": "ipython3",
   "version": "3.8.5"
  }
 },
 "nbformat": 4,
 "nbformat_minor": 4
}
