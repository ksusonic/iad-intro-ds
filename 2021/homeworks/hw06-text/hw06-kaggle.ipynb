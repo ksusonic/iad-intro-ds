{
 "cells": [
  {
   "cell_type": "markdown",
   "metadata": {},
   "source": [
    "# Avito Category Prediction\n",
    " You need to predict the category of avito publications"
   ]
  },
  {
   "cell_type": "code",
   "execution_count": 1,
   "metadata": {},
   "outputs": [],
   "source": [
    "import pandas as pd"
   ]
  },
  {
   "cell_type": "code",
   "execution_count": null,
   "metadata": {},
   "outputs": [],
   "source": [
    "train = pd.read_csv('avito-text-classification/train.csv')\n",
    "test = pd.read_csv('avito-text-classification/test.csv')"
   ]
  },
  {
   "cell_type": "code",
   "execution_count": null,
   "metadata": {},
   "outputs": [],
   "source": [
    "train.head()"
   ]
  },
  {
   "cell_type": "code",
   "execution_count": null,
   "metadata": {},
   "outputs": [],
   "source": [
    "train.fillna('', inplace=True)\n",
    "test.fillna('', inplace=True)"
   ]
  },
  {
   "cell_type": "code",
   "execution_count": null,
   "metadata": {
    "scrolled": true
   },
   "outputs": [],
   "source": [
    "train['text'] = train['title'] + ' ' + train['description']\n",
    "train.drop(['title', 'description'], axis=1, inplace=True)"
   ]
  },
  {
   "cell_type": "code",
   "execution_count": null,
   "metadata": {},
   "outputs": [],
   "source": [
    "test['text'] = test['title'] + ' ' + test['description']\n",
    "test.drop(['title', 'description'], axis=1, inplace=True)"
   ]
  },
  {
   "cell_type": "code",
   "execution_count": null,
   "metadata": {},
   "outputs": [],
   "source": [
    "from nltk.tokenize import word_tokenize\n",
    "from nltk.corpus import stopwords\n",
    "from nltk.stem.snowball import SnowballStemmer\n",
    "from string import punctuation, digits\n",
    "\n",
    "def tokenizer(s: str) -> list:\n",
    "    \"\"\"\n",
    "    My custom tokenizer using sets\n",
    "    \"\"\"\n",
    "    \n",
    "    stemmer = SnowballStemmer('russian')\n",
    "    compare = set(punctuation) | set(digits) | set(stopwords.words('russian'))\n",
    "    result = [stemmer.stem(x) for x in word_tokenize(s.lower()) if\n",
    "              len(x) > 2 and len({x} & compare) == 0]  \n",
    "    return result"
   ]
  },
  {
   "cell_type": "code",
   "execution_count": null,
   "metadata": {},
   "outputs": [],
   "source": [
    "# 1\n",
    "random_data = train.sample(500000)"
   ]
  },
  {
   "cell_type": "code",
   "execution_count": null,
   "metadata": {},
   "outputs": [],
   "source": [
    "random_data"
   ]
  },
  {
   "cell_type": "code",
   "execution_count": null,
   "metadata": {},
   "outputs": [],
   "source": [
    "# 2\n",
    "from sklearn.model_selection import train_test_split\n",
    "\n",
    "X_train, X_test, y_train, y_test = train_test_split(train['text'], train['Category'], test_size=0.3, random_state=2021)"
   ]
  },
  {
   "cell_type": "code",
   "execution_count": null,
   "metadata": {},
   "outputs": [],
   "source": [
    "%%time\n",
    "from sklearn.feature_extraction.text import CountVectorizer\n",
    "from sklearn.pipeline import Pipeline\n",
    "from sklearn.linear_model import SGDClassifier\n",
    "from sklearn.metrics import classification_report,accuracy_score\n",
    "\n",
    "sgd = Pipeline([\n",
    "    ('vect', CountVectorizer(tokenizer=tokenizer)),\n",
    "    ('clf', SGDClassifier(random_state=2021, n_jobs=8)),\n",
    "    ])\n",
    "\n",
    "sgd.fit(train['text'], train['Category'])\n",
    "\n",
    "sgd_y_pred = sgd.predict(X_test)\n",
    "\n",
    "\n",
    "# classification_report(y_test, sgd_y_pred)\n",
    "accuracy_score(y_test, sgd_y_pred)"
   ]
  },
  {
   "cell_type": "code",
   "execution_count": null,
   "metadata": {},
   "outputs": [],
   "source": [
    "accuracy_score(train['Category'], sgd.predict(train['text']))\n"
   ]
  },
  {
   "cell_type": "code",
   "execution_count": null,
   "metadata": {},
   "outputs": [],
   "source": [
    "print(classification_report(train['Category'], sgd.predict(train['text'])))"
   ]
  },
  {
   "cell_type": "code",
   "execution_count": null,
   "metadata": {},
   "outputs": [],
   "source": [
    "output = pd.DataFrame({\n",
    "    'Id': test.itemid, \n",
    "    'Category': sgd.predict(test['text'])\n",
    "})\n",
    "output.to_csv(\"submission.csv\", index=False)\n",
    "output.head()"
   ]
  },
  {
   "cell_type": "code",
   "execution_count": null,
   "metadata": {},
   "outputs": [],
   "source": [
    "%%time\n",
    "\n",
    "from sklearn.feature_extraction.text import CountVectorizer\n",
    "from sklearn.pipeline import Pipeline\n",
    "# from sklearn.linear_model import SGDClassifier\n",
    "from sklearn.model_selection import GridSearchCV\n",
    "from sklearn.neighbors import KNeighborsClassifier\n",
    "from sklearn.metrics import classification_report,accuracy_score\n",
    "\n",
    "grid_params = {\n",
    "    'n_neighbors': [1,2,3,4,5,6],\n",
    "    'weights': ['uniform', 'distance'],\n",
    "    'metric':['euclidean', 'manhattan']\n",
    "}\n",
    "\n",
    "\n",
    "pipe = Pipeline([\n",
    "    ('vect', CountVectorizer(tokenizer=tokenizer)),\n",
    "    ('clf', GridSearchCV(\n",
    "        KNeighborsClassifier(),\n",
    "        grid_params,\n",
    "        verbose=1,\n",
    "        cv=3,\n",
    "        n_jobs=-1)),\n",
    "    ])\n",
    "\n",
    "pipe.fit(X_train, y_train)\n",
    "\n",
    "pipe_y_pred = pipe.predict(X_test)\n",
    "\n",
    "\n",
    "# classification_report(y_test, sgd_y_pred)\n",
    "accuracy_score(y_test, pipe_y_pred)"
   ]
  },
  {
   "cell_type": "code",
   "execution_count": null,
   "metadata": {
    "jupyter": {
     "outputs_hidden": true
    }
   },
   "outputs": [],
   "source": [
    "print(\"test:\", accuracy_score(y_test, pipe_y_pred))\n",
    "\n",
    "print(classification_report(y_test, pipe_y_pred))"
   ]
  },
  {
   "cell_type": "code",
   "execution_count": null,
   "metadata": {},
   "outputs": [],
   "source": [
    "output = pd.DataFrame({\n",
    "    'Id': test.itemid, \n",
    "    'Category': sgd.predict(test['text'])\n",
    "})\n",
    "output.to_csv(\"submission.csv\", index=False)\n",
    "output.head()"
   ]
  }
 ],
 "metadata": {
  "environment": {
   "name": "common-cpu.m65",
   "type": "gcloud",
   "uri": "gcr.io/deeplearning-platform-release/base-cpu:m65"
  },
  "kernelspec": {
   "display_name": "Python 3",
   "language": "python",
   "name": "python3"
  },
  "language_info": {
   "codemirror_mode": {
    "name": "ipython",
    "version": 3
   },
   "file_extension": ".py",
   "mimetype": "text/x-python",
   "name": "python",
   "nbconvert_exporter": "python",
   "pygments_lexer": "ipython3",
   "version": "3.8.5"
  }
 },
 "nbformat": 4,
 "nbformat_minor": 4
}
